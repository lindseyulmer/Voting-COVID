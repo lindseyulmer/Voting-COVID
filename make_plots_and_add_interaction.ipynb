{
 "cells": [
  {
   "cell_type": "code",
   "execution_count": 55,
   "metadata": {},
   "outputs": [],
   "source": [
    "import json\n",
    "import pandas as pd\n",
    "from bokeh.io import show, export_png, save, output_file\n",
    "from bokeh.models import (CDSView, ColorBar, ColumnDataSource,\n",
    "                          CustomJS, CustomJSFilter, \n",
    "                          GeoJSONDataSource, HoverTool,\n",
    "                          LinearColorMapper, Slider)\n",
    "from bokeh.layouts import column, row, widgetbox\n",
    "from bokeh.palettes import brewer\n",
    "from bokeh.plotting import figure\n",
    "#load data frame made with add_data notebook\n",
    "plot_data=pd.read_csv('datatovisualize.csv')\n",
    "# Input GeoJSON source that contains features for plotting\n",
    "#will be hard to do multiple cuz this source needs a new name each time\n",
    "source1 = GeoJSONDataSource(geojson = plot_data.to_json())"
   ]
  },
  {
   "cell_type": "code",
   "execution_count": 56,
   "metadata": {},
   "outputs": [],
   "source": [
    "# Create figure object.\n",
    "p = figure(title = 'Total COVID Cases', \n",
    "           plot_height = 600 ,\n",
    "           plot_width = 950, \n",
    "           toolbar_location = 'below',\n",
    "           tools = 'pan, wheel_zoom, box_zoom, reset')\n",
    "p.xgrid.grid_line_color = None\n",
    "p.ygrid.grid_line_color = None\n",
    "# Add patch renderer to figure.\n",
    "states = p.patches('xs','ys', source = source1,\n",
    "                   fill_color = None,\n",
    "                   line_color = 'gray', \n",
    "                   line_width = 0.25, \n",
    "                   fill_alpha = 1)\n",
    "# Create hover tool, this would be adding interaction\n",
    "p.add_tools(HoverTool(renderers = [states],\n",
    "                      tooltips = [('State','@NAME'),\n",
    "                                ('Total Covid Cases','@{Total Cases}'),\n",
    "                                 ('Total Covid Deaths', \"@{Total Deaths}\")]))\n",
    "#I'm also having trouble visualizing and exporting the figures\n",
    "output_file(\"figure\", title='Bokeh Plot', mode=None, root_dir=None)\n",
    "show(p)"
   ]
  },
  {
   "cell_type": "code",
   "execution_count": 58,
   "metadata": {},
   "outputs": [],
   "source": [
    "source2 = GeoJSONDataSource(geojson = plot_data.to_json())\n",
    "# Define color palettes\n",
    "palette = brewer['BuGn'][8]\n",
    "palette = palette[::-1] # reverse order of colors so higher values have darker colors\n",
    "# Instantiate LinearColorMapper that linearly maps numbers in a range, into a sequence of colors.\n",
    "color_mapper = LinearColorMapper(palette = palette, low = 0, high = 5000)\n",
    "# Define custom tick labels for color bar.\n",
    "tick_labels = {'0': '0', '0': '10000','10,000'\n",
    " '20000':'20,000', '30000':'30,000',\n",
    " '40000':'40,000', '50000':'50,000',\n",
    " '60000':'60,000', '70000':'70,000',\n",
    " '90000':'90,000+'}\n",
    "# Create color bar.\n",
    "color_bar = ColorBar(color_mapper = color_mapper, \n",
    "                     label_standoff = 8,\n",
    "                     width = 500, height = 20,\n",
    "                     border_line_color = None,\n",
    "                     location = (0,0), \n",
    "                     orientation = 'horizontal',\n",
    "                     major_label_overrides = tick_labels)\n",
    "# Create figure object.\n",
    "p = figure(title = 'Covid Cases and Deaths', \n",
    "           plot_height = 600, plot_width = 950, \n",
    "           toolbar_location = 'below',\n",
    "           tools = 'pan, wheel_zoom, box_zoom, reset')\n",
    "p.xgrid.grid_line_color = None\n",
    "p.ygrid.grid_line_color = None\n",
    "# Add patch renderer to figure.\n",
    "states = p.patches('xs','ys', source = source2,\n",
    "                   fill_color = {'field' :'Case Rate per 100000',\n",
    "                                 'transform' : color_mapper},\n",
    "                   line_color = 'gray', \n",
    "                   line_width = 0.25, \n",
    "                   fill_alpha = 1)\n",
    "# Create hover tool, this would be adding interaction\n",
    "p.add_tools(HoverTool(renderers = [states],\n",
    "                      tooltips = [('State','@NAME'),\n",
    "                               ('Total Covid Cases','@{Total Cases}'),\n",
    "                                 ('Total Covid Deaths', \"@{Total Deaths}\"),\n",
    "                                 ('Case Rate per 100,000' ,\"@{Case Rate per 100000}\")]))\n",
    "# Specify layout\n",
    "p.add_layout(color_bar, 'below')\n",
    "show(p)"
   ]
  },
  {
   "cell_type": "code",
   "execution_count": null,
   "metadata": {},
   "outputs": [],
   "source": []
  },
  {
   "cell_type": "code",
   "execution_count": null,
   "metadata": {},
   "outputs": [],
   "source": []
  }
 ],
 "metadata": {
  "kernelspec": {
   "display_name": "Python 3",
   "language": "python",
   "name": "python3"
  },
  "language_info": {
   "codemirror_mode": {
    "name": "ipython",
    "version": 3
   },
   "file_extension": ".py",
   "mimetype": "text/x-python",
   "name": "python",
   "nbconvert_exporter": "python",
   "pygments_lexer": "ipython3",
   "version": "3.8.2"
  }
 },
 "nbformat": 4,
 "nbformat_minor": 4
}
