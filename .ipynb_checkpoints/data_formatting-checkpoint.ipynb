{
 "cells": [
  {
   "cell_type": "markdown",
   "metadata": {},
   "source": [
    "## Loading Packages"
   ]
  },
  {
   "cell_type": "code",
   "execution_count": 1,
   "metadata": {},
   "outputs": [],
   "source": [
    "import pandas as pd\n",
    "import numpy as np"
   ]
  },
  {
   "cell_type": "code",
   "execution_count": 2,
   "metadata": {},
   "outputs": [],
   "source": [
    "import os, glob\n",
    "current_location = os.getcwd()\n",
    "os.chdir(current_location)\n",
    "#os.chdir(\"../raw_data\")"
   ]
  },
  {
   "cell_type": "markdown",
   "metadata": {},
   "source": [
    "## Processing Data\n",
    "### 0. state and region\n",
    "   - Link: https://www.kaggle.com/omer2040/usa-states-to-region\n",
    "   - Update: 2018\n",
    "   - Columns in this Dataset\n",
    "    \n",
    "| Columns    |\n",
    "|------------|\n",
    "| State      |\n",
    "| StateCode |\n",
    "| Region     |\n",
    "| Division   |"
   ]
  },
  {
   "cell_type": "code",
   "execution_count": 3,
   "metadata": {},
   "outputs": [],
   "source": [
    "state = pd.read_csv(\"States.csv\")\n",
    "state.columns = ['state', 'state_code', 'region', 'division']"
   ]
  },
  {
   "cell_type": "code",
   "execution_count": 4,
   "metadata": {},
   "outputs": [],
   "source": [
    "state.to_csv(\"../Voting-COVID/data/raw_0_states.csv\", index = False)"
   ]
  },
  {
   "cell_type": "code",
   "execution_count": 5,
   "metadata": {},
   "outputs": [
    {
     "data": {
      "text/plain": [
       "Index(['state', 'state_code', 'region', 'division'], dtype='object')"
      ]
     },
     "execution_count": 5,
     "metadata": {},
     "output_type": "execute_result"
    }
   ],
   "source": [
    "state.columns"
   ]
  },
  {
   "cell_type": "markdown",
   "metadata": {},
   "source": [
    "### 1. COVID-19 data from CDC\n",
    "   - Link: https://data.cdc.gov/Case-Surveillance/United-States-COVID-19-Cases-and-Deaths-by-State-o/9mfq-cb36\n",
    "   - Update: Nov. 24, 2020\n",
    "   - Columns in this Dataset\n",
    "    \n",
    "| Column Name     | Description                                                                                                   | Type        |\n",
    "|-----------------|---------------------------------------------------------------------------------------------------------------|-------------|\n",
    "| submission_date | Date of counts                                                                                                | Date & Time |\n",
    "| state           | Jurisdiction                                                                                                  | Plain Text  |\n",
    "| tot_cases       | Total number of cases                                                                                         | Number      |\n",
    "| conf_cases      | Total confirmed cases                                                                                         | Number      |\n",
    "| prob_cases      | Total probable cases                                                                                          | Number      |\n",
    "| new_case        | Number of new cases                                                                                           | Number      |\n",
    "| pnew_case       | Number of new probable cases                                                                                  | Number      |\n",
    "| tot_death       | Total number of deaths                                                                                        | Number      |\n",
    "| conf_death      | Total number of confirmed deaths                                                                              | Number      |\n",
    "| prob_death      | Total number of probable deaths                                                                               | Number      |\n",
    "| new_death       | Number of new deaths                                                                                          | Number      |\n",
    "| pnew_death      | Number of new probable deaths                                                                                 | Number      |\n",
    "| created_at      | Date and time record was created                                                                              | Date & Time |\n",
    "| consent_cases   | If Agree, then confirmed and probable cases are included. If Not Agree, then only total cases are included.   | Plain Text  |\n",
    "| consent_deaths  | If Agree, then confirmed and probable deaths are included. If Not Agree, then only total deaths are included. | Plain Text  |"
   ]
  },
  {
   "cell_type": "code",
   "execution_count": 6,
   "metadata": {},
   "outputs": [
    {
     "data": {
      "text/plain": [
       "Index(['submission_date', 'state', 'tot_cases', 'conf_cases', 'prob_cases',\n",
       "       'new_case', 'pnew_case', 'tot_death', 'conf_death', 'prob_death',\n",
       "       'new_death', 'pnew_death', 'created_at', 'consent_cases',\n",
       "       'consent_deaths'],\n",
       "      dtype='object')"
      ]
     },
     "execution_count": 6,
     "metadata": {},
     "output_type": "execute_result"
    }
   ],
   "source": [
    "covid = pd.read_csv(\"United_States_COVID-19_Cases_and_Deaths_by_State_over_Time.csv\")\n",
    "covid.columns"
   ]
  },
  {
   "cell_type": "code",
   "execution_count": 7,
   "metadata": {},
   "outputs": [
    {
     "data": {
      "text/html": [
       "<div>\n",
       "<style scoped>\n",
       "    .dataframe tbody tr th:only-of-type {\n",
       "        vertical-align: middle;\n",
       "    }\n",
       "\n",
       "    .dataframe tbody tr th {\n",
       "        vertical-align: top;\n",
       "    }\n",
       "\n",
       "    .dataframe thead th {\n",
       "        text-align: right;\n",
       "    }\n",
       "</style>\n",
       "<table border=\"1\" class=\"dataframe\">\n",
       "  <thead>\n",
       "    <tr style=\"text-align: right;\">\n",
       "      <th></th>\n",
       "      <th>submission_date</th>\n",
       "      <th>state</th>\n",
       "      <th>tot_cases</th>\n",
       "      <th>conf_cases</th>\n",
       "      <th>prob_cases</th>\n",
       "      <th>new_case</th>\n",
       "      <th>pnew_case</th>\n",
       "      <th>tot_death</th>\n",
       "      <th>conf_death</th>\n",
       "      <th>prob_death</th>\n",
       "      <th>new_death</th>\n",
       "      <th>pnew_death</th>\n",
       "      <th>created_at</th>\n",
       "      <th>consent_cases</th>\n",
       "      <th>consent_deaths</th>\n",
       "    </tr>\n",
       "  </thead>\n",
       "  <tbody>\n",
       "    <tr>\n",
       "      <th>500</th>\n",
       "      <td>08/02/2020</td>\n",
       "      <td>FL</td>\n",
       "      <td>481668</td>\n",
       "      <td>NaN</td>\n",
       "      <td>NaN</td>\n",
       "      <td>7047</td>\n",
       "      <td>4.0</td>\n",
       "      <td>7084</td>\n",
       "      <td>NaN</td>\n",
       "      <td>NaN</td>\n",
       "      <td>62</td>\n",
       "      <td>0.0</td>\n",
       "      <td>08/03/2020 02:31:01 PM</td>\n",
       "      <td>Not agree</td>\n",
       "      <td>Not agree</td>\n",
       "    </tr>\n",
       "    <tr>\n",
       "      <th>501</th>\n",
       "      <td>08/03/2020</td>\n",
       "      <td>FL</td>\n",
       "      <td>486426</td>\n",
       "      <td>NaN</td>\n",
       "      <td>NaN</td>\n",
       "      <td>4758</td>\n",
       "      <td>51.0</td>\n",
       "      <td>7292</td>\n",
       "      <td>NaN</td>\n",
       "      <td>NaN</td>\n",
       "      <td>208</td>\n",
       "      <td>1.0</td>\n",
       "      <td>08/04/2020 02:09:35 PM</td>\n",
       "      <td>Not agree</td>\n",
       "      <td>Not agree</td>\n",
       "    </tr>\n",
       "    <tr>\n",
       "      <th>502</th>\n",
       "      <td>08/04/2020</td>\n",
       "      <td>FL</td>\n",
       "      <td>491773</td>\n",
       "      <td>NaN</td>\n",
       "      <td>NaN</td>\n",
       "      <td>5347</td>\n",
       "      <td>146.0</td>\n",
       "      <td>7402</td>\n",
       "      <td>NaN</td>\n",
       "      <td>NaN</td>\n",
       "      <td>110</td>\n",
       "      <td>0.0</td>\n",
       "      <td>08/05/2020 02:13:18 PM</td>\n",
       "      <td>Not agree</td>\n",
       "      <td>Not agree</td>\n",
       "    </tr>\n",
       "    <tr>\n",
       "      <th>503</th>\n",
       "      <td>08/05/2020</td>\n",
       "      <td>FL</td>\n",
       "      <td>497181</td>\n",
       "      <td>NaN</td>\n",
       "      <td>NaN</td>\n",
       "      <td>5408</td>\n",
       "      <td>220.0</td>\n",
       "      <td>7627</td>\n",
       "      <td>NaN</td>\n",
       "      <td>NaN</td>\n",
       "      <td>225</td>\n",
       "      <td>1.0</td>\n",
       "      <td>08/06/2020 02:12:27 PM</td>\n",
       "      <td>Not agree</td>\n",
       "      <td>Not agree</td>\n",
       "    </tr>\n",
       "    <tr>\n",
       "      <th>504</th>\n",
       "      <td>08/06/2020</td>\n",
       "      <td>FL</td>\n",
       "      <td>504768</td>\n",
       "      <td>NaN</td>\n",
       "      <td>NaN</td>\n",
       "      <td>7587</td>\n",
       "      <td>208.0</td>\n",
       "      <td>7747</td>\n",
       "      <td>NaN</td>\n",
       "      <td>NaN</td>\n",
       "      <td>120</td>\n",
       "      <td>6.0</td>\n",
       "      <td>08/07/2020 11:57:59 PM</td>\n",
       "      <td>Not agree</td>\n",
       "      <td>Not agree</td>\n",
       "    </tr>\n",
       "  </tbody>\n",
       "</table>\n",
       "</div>"
      ],
      "text/plain": [
       "    submission_date state  tot_cases  conf_cases  prob_cases  new_case  \\\n",
       "500      08/02/2020    FL     481668         NaN         NaN      7047   \n",
       "501      08/03/2020    FL     486426         NaN         NaN      4758   \n",
       "502      08/04/2020    FL     491773         NaN         NaN      5347   \n",
       "503      08/05/2020    FL     497181         NaN         NaN      5408   \n",
       "504      08/06/2020    FL     504768         NaN         NaN      7587   \n",
       "\n",
       "     pnew_case  tot_death  conf_death  prob_death  new_death  pnew_death  \\\n",
       "500        4.0       7084         NaN         NaN         62         0.0   \n",
       "501       51.0       7292         NaN         NaN        208         1.0   \n",
       "502      146.0       7402         NaN         NaN        110         0.0   \n",
       "503      220.0       7627         NaN         NaN        225         1.0   \n",
       "504      208.0       7747         NaN         NaN        120         6.0   \n",
       "\n",
       "                 created_at consent_cases consent_deaths  \n",
       "500  08/03/2020 02:31:01 PM     Not agree      Not agree  \n",
       "501  08/04/2020 02:09:35 PM     Not agree      Not agree  \n",
       "502  08/05/2020 02:13:18 PM     Not agree      Not agree  \n",
       "503  08/06/2020 02:12:27 PM     Not agree      Not agree  \n",
       "504  08/07/2020 11:57:59 PM     Not agree      Not agree  "
      ]
     },
     "execution_count": 7,
     "metadata": {},
     "output_type": "execute_result"
    }
   ],
   "source": [
    "covid.iloc[500:505]"
   ]
  },
  {
   "cell_type": "code",
   "execution_count": 8,
   "metadata": {},
   "outputs": [],
   "source": [
    "covid = covid[['submission_date', 'state', 'tot_cases', 'new_case', 'tot_death',  'new_death']]\n",
    "covid.columns = ['date', 'state_code', 'tot_cases', 'new_case', 'tot_death',  'new_death']\n",
    "covid.to_csv(\"../Voting-COVID/data/raw_1_covid_daily.csv\", index = False)"
   ]
  },
  {
   "cell_type": "code",
   "execution_count": 9,
   "metadata": {},
   "outputs": [
    {
     "data": {
      "text/plain": [
       "Index(['date', 'state_code', 'tot_cases', 'new_case', 'tot_death',\n",
       "       'new_death'],\n",
       "      dtype='object')"
      ]
     },
     "execution_count": 9,
     "metadata": {},
     "output_type": "execute_result"
    }
   ],
   "source": [
    "covid.columns"
   ]
  },
  {
   "cell_type": "markdown",
   "metadata": {},
   "source": [
    "### 2. latest COVID-19 data from CDC \n",
    "   - Link: https://data.cdc.gov/Case-Surveillance/United-States-COVID-19-Cases-and-Deaths-by-State-o/9mfq-cb36\n",
    "   - Update: Nov. 24, 2020\n",
    "   - Columns in this Dataset\n",
    "    |                             Columns |\n",
    "|------------------------------------:|\n",
    "|                         Total Cases |\n",
    "|                     Confirmed Cases |\n",
    "|                      Probable Cases |\n",
    "|                Cases in Last 7 Days |\n",
    "|                Case Rate per 100000 |\n",
    "|                        Total Deaths |\n",
    "|                    Confirmed Deaths |\n",
    "|                     Probable Deaths |\n",
    "|               Deaths in Last 7 Days |\n",
    "|               Death Rate per 100000 |\n",
    "| Case Rate per 100000 in Last 7 Days |\n",
    "|  Death Rate per 100K in Last 7 Days |"
   ]
  },
  {
   "cell_type": "code",
   "execution_count": 10,
   "metadata": {},
   "outputs": [],
   "source": [
    "latest_covid = pd.read_csv(\"united_states_covid19_cases_and_deaths_by_state.csv\", skiprows=2)\n",
    "latest_covid.rename(columns={\"State/Territory\": \"state\"})\n",
    "latest_covid.to_csv(\"../Voting-COVID/data/raw_2_covid_latest.csv\", index = False)"
   ]
  },
  {
   "cell_type": "code",
   "execution_count": 11,
   "metadata": {},
   "outputs": [
    {
     "data": {
      "text/plain": [
       "Index(['State/Territory', 'Total Cases', 'Confirmed Cases', 'Probable Cases',\n",
       "       'Cases in Last 7 Days', 'Case Rate per 100000', 'Total Deaths',\n",
       "       'Confirmed Deaths', 'Probable Deaths', 'Deaths in Last 7 Days',\n",
       "       'Death Rate per 100000', 'Case Rate per 100000 in Last 7 Days',\n",
       "       'Death Rate per 100K in Last 7 Days'],\n",
       "      dtype='object')"
      ]
     },
     "execution_count": 11,
     "metadata": {},
     "output_type": "execute_result"
    }
   ],
   "source": [
    "latest_covid.columns"
   ]
  },
  {
   "cell_type": "markdown",
   "metadata": {},
   "source": [
    "### 3. 2020 election result \n",
    "   - Link: https://www.nbcnews.com/politics/2020-elections/president-results?icid=election_usmap?icid=election_usmap\n",
    "   - Update: Nov. 24, 2020\n",
    "   - Columns in this Dataset\n",
    "    | Columns       |\n",
    "|---------------|\n",
    "| States        |\n",
    "| BIDEN_percent |\n",
    "| BIDEN_votes   |\n",
    "| TRUMP_percent |\n",
    "| TRUMP_votes   |"
   ]
  },
  {
   "cell_type": "code",
   "execution_count": 12,
   "metadata": {},
   "outputs": [],
   "source": [
    "election_2020 = pd.read_csv(\"3_2020_election_results.csv\")\n",
    "election_2020.rename(columns={\"States\": \"state\"})\n",
    "election_2020.to_csv(\"../Voting-COVID/data/raw_3_2020election.csv\", index = False)"
   ]
  },
  {
   "cell_type": "code",
   "execution_count": 13,
   "metadata": {},
   "outputs": [
    {
     "data": {
      "text/plain": [
       "Index(['States', 'BIDEN_percent', 'BIDEN_votes', 'TRUMP_percent',\n",
       "       'TRUMP_votes'],\n",
       "      dtype='object')"
      ]
     },
     "execution_count": 13,
     "metadata": {},
     "output_type": "execute_result"
    }
   ],
   "source": [
    "election_2020.columns"
   ]
  },
  {
   "cell_type": "markdown",
   "metadata": {},
   "source": [
    "### 4. 2020 early voting data \n",
    "   - Link: https://www.nbcnews.com/politics/2020-elections/president-results?icid=election_usmap?icid=election_usmap\n",
    "   - Update: Nov. 24, 2020\n",
    "   - Columns in this Dataset"
   ]
  },
  {
   "cell_type": "markdown",
   "metadata": {},
   "source": [
    "### 5. 2016 election results\n",
    "   - Link: https://www.fec.gov/documents/1890/federalelections2016.xlsx\n",
    "   - Update: X\n",
    "   - Columns in this Dataset\n",
    "   \n",
    "| Columns                |\n",
    "|------------------------|\n",
    "| state_code             |\n",
    "| TRUMP_election_votes   |\n",
    "| CLINTON_election_votes |\n",
    "| TRUMP_votes            |\n",
    "| CLINTON_votes          |\n",
    "| Other_votes            |\n",
    "| total_votes            |"
   ]
  },
  {
   "cell_type": "code",
   "execution_count": 14,
   "metadata": {
    "scrolled": true
   },
   "outputs": [],
   "source": [
    "election_2016 = pd.read_csv(\"2016_election_results.csv\")\n",
    "election_2016.to_csv(\"../Voting-COVID/data/raw_5_2016election.csv\", index = False)"
   ]
  },
  {
   "cell_type": "code",
   "execution_count": 15,
   "metadata": {},
   "outputs": [
    {
     "data": {
      "text/plain": [
       "Index(['state_code', 'TRUMP_election_votes', 'CLINTON_election_votes',\n",
       "       'TRUMP_votes', 'CLINTON_votes', 'Other_votes', 'total_votes'],\n",
       "      dtype='object')"
      ]
     },
     "execution_count": 15,
     "metadata": {},
     "output_type": "execute_result"
    }
   ],
   "source": [
    "election_2016.columns"
   ]
  },
  {
   "cell_type": "markdown",
   "metadata": {},
   "source": [
    "### 6. 2016 vote by mail data\n",
    "   - Link: http://healthyelections.org/map/\n",
    "   - Update: X\n",
    "   - Columns in this Dataset\n",
    "   \n",
    "| Columns                                                |\n",
    "|--------------------------------------------------------|\n",
    "| turnout by Mail 2016                                    |\n",
    "| Mail Ballots Rejected 2016                             |\n",
    "| Poll Workers Over 60                                   |\n",
    "| Percent of Mail Ballots Rejected for Signature 2016    |\n",
    "| Percent of Mail Ballots Rejected for Late Arrival 2016 |\n",
    "| Percent of Mail Ballots Rejected for Other 2016        |"
   ]
  },
  {
   "cell_type": "code",
   "execution_count": 16,
   "metadata": {},
   "outputs": [
    {
     "data": {
      "text/plain": [
       "Index(['Unnamed: 0', 'state_abbv', 'perc_turnout_by_mail_2016',\n",
       "       'perc_ballots_rejected_for_counting_2016',\n",
       "       'perc_poll_workers_over_60_2016',\n",
       "       'perc_ballots_rejected.signature_2016',\n",
       "       'perc_ballots_rejected.late_2016', 'perc_ballots_rejected.other_2016'],\n",
       "      dtype='object')"
      ]
     },
     "execution_count": 16,
     "metadata": {},
     "output_type": "execute_result"
    }
   ],
   "source": [
    "mail_2016 = pd.read_csv(\"healthy_election_state_clean.csv\")\n",
    "mail_2016.columns"
   ]
  },
  {
   "cell_type": "code",
   "execution_count": 17,
   "metadata": {},
   "outputs": [],
   "source": [
    "mail_2016 = mail_2016.drop(index=0, axis=1)"
   ]
  },
  {
   "cell_type": "code",
   "execution_count": 18,
   "metadata": {},
   "outputs": [],
   "source": [
    "mail_2016.rename(columns={'state_abbv': \"state_code\"})\n",
    "mail_2016.to_csv(\"../Voting-COVID/data/raw_6_2016mail.csv\", index = False)"
   ]
  },
  {
   "cell_type": "code",
   "execution_count": 19,
   "metadata": {},
   "outputs": [
    {
     "data": {
      "text/plain": [
       "Index(['Unnamed: 0', 'state_abbv', 'perc_turnout_by_mail_2016',\n",
       "       'perc_ballots_rejected_for_counting_2016',\n",
       "       'perc_poll_workers_over_60_2016',\n",
       "       'perc_ballots_rejected.signature_2016',\n",
       "       'perc_ballots_rejected.late_2016', 'perc_ballots_rejected.other_2016'],\n",
       "      dtype='object')"
      ]
     },
     "execution_count": 19,
     "metadata": {},
     "output_type": "execute_result"
    }
   ],
   "source": [
    "mail_2016.columns"
   ]
  },
  {
   "cell_type": "code",
   "execution_count": null,
   "metadata": {},
   "outputs": [],
   "source": []
  }
 ],
 "metadata": {
  "kernelspec": {
   "display_name": "Python 3",
   "language": "python",
   "name": "python3"
  },
  "language_info": {
   "codemirror_mode": {
    "name": "ipython",
    "version": 3
   },
   "file_extension": ".py",
   "mimetype": "text/x-python",
   "name": "python",
   "nbconvert_exporter": "python",
   "pygments_lexer": "ipython3",
   "version": "3.7.3"
  }
 },
 "nbformat": 4,
 "nbformat_minor": 4
}
