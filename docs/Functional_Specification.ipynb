{
 "cells": [
  {
   "cell_type": "markdown",
   "metadata": {},
   "source": [
    "# Background\n",
    "### Covid and Elections\n",
    "The coronavirus pandemic has created unprecedented circumstances in the United States, affecting every aspect of American life including the election process. Rising cases and concern over the government’s response to the pandemic could have greatly influenced how and who Americans voted for. \n",
    "Data on coronavirus cases, election results, and the proportion of mail-in votes are all readily available, but coronavirus and election data are not readily available in the same place for comparison. \n",
    "Our goal is to visualize COVID-19 and election data in the same place so that people can more easily draw conclusions about how the pandemic affected American’s political views.\n",
    "# User Profile\n",
    "The user can be anyone who is interested in visualizing covid and election data. This can be anyone from people who work in public policy to just citizens who are interested in the election or covid data. They do not need experience with python but should be comfortable using a Jupyter Notebook to create the figures.\n",
    "# Data Sources\n",
    "Covid case data will be downloaded from the CDC's website as a CSV. 2016 vote by mail data will be downloaded from healthy elections.org as a CSV. 2016 overall election results will be downloaded from the FEC as an excel spreadsheet. Poll data on covid as a voting issue will be downloaded from commonwealthfund.org as a CSV. 2020 results will be copied from nbcnews.com as a CSV. 2020 early voting data will be copied from the washingtonpost into a CSV, and 2020 mail-in voting data will be copied from the guardian into a CSV. Some of this data had to be copied into spreadsheets instead of downloaded as a table because the data was not available in a downloadable format at the time of this project because results were still being finalized.\n",
    "# Use Cases\n",
    "### Use Case 1 User Creating Figure with Data that's preuploaded\n",
    "User will run existed Jupyter Notebook as is to generate the desired interactive map figure.\n",
    "### Use Case 2 User Adding Additional Data to Figures\n",
    "If the user had additional data they wanted in an interactive map, they could upload more data, and alter what columns in the combined data frame are plotted to include their newly added data. Users doing this should have some experience with python and Jupyter Notebook.\n",
    "### Use Case 3 User Interacting with Pre-generated Figures\n",
    "If a user was only interested in the data we uploaded in the view it was exported as, they could just download the figure and interact with it. This requires the least level of \n",
    "familiarity with Jupyter Notebook and python so is the most accessible.\n",
    "\n",
    "\n"
   ]
  }
 ],
 "metadata": {
  "kernelspec": {
   "display_name": "Python 3",
   "language": "python",
   "name": "python3"
  },
  "language_info": {
   "codemirror_mode": {
    "name": "ipython",
    "version": 3
   },
   "file_extension": ".py",
   "mimetype": "text/x-python",
   "name": "python",
   "nbconvert_exporter": "python",
   "pygments_lexer": "ipython3",
   "version": "3.7.3"
  }
 },
 "nbformat": 4,
 "nbformat_minor": 2
}
