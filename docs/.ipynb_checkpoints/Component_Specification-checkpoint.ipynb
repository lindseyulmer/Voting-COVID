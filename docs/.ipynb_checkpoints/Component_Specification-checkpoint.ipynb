{
 "cells": [
  {
   "cell_type": "markdown",
   "metadata": {},
   "source": [
    "# Software Components\n",
    "The software components are importing data, structuring data to one dataframe and adding shapefile information for\n",
    "use with Geopandas, and creating and exporting the interactive map with Bokeh. Summarizing it is importing data,\n",
    "reformatting data, and creating and exporting map visualizations.\n",
    "\n",
    "# Interactions To Accomplish Use Cases\n",
    "The imported data with be combined by the reformatting component to one data frame, and that data frame will be used\n",
    "by the visualization creation component. General steps for this are:\n",
    "- Reading in data (import component)\n",
    "- Merging data to one data frame (reformat component)\n",
    "- Using the Geopandas package to add state shapes to a data frame (reformat component)\n",
    "- Using Bokeh to perform plotting/visualization (also to save the plot to file) (visualization component)\n",
    "- Using Bokeh to make the interactive plot to better illustrate the data (visualization component)\n",
    "\n",
    "# Preliminary Plan\n",
    "- Gather COVID case data, 2020 election results and proportion mail-in voting, 2016 election results, and poll results\n",
    "- Investigate necessary packages to visualize data in interactive maps.\n",
    "- Create visualizations comparing COVID cases to 2020 results for all states.\n",
    "- Create visualizations comparing 2016 election results to 2020 overall and early voting results for all States.\n",
    "- Create visualizations comparing COVID cases, number of mail-in votes, and poll results on COVID as a top voting issue for key swing states.\n"
   ]
  },
  {
   "cell_type": "code",
   "execution_count": null,
   "metadata": {},
   "outputs": [],
   "source": []
  }
 ],
 "metadata": {
  "kernelspec": {
   "display_name": "Python 3",
   "language": "python",
   "name": "python3"
  },
  "language_info": {
   "codemirror_mode": {
    "name": "ipython",
    "version": 3
   },
   "file_extension": ".py",
   "mimetype": "text/x-python",
   "name": "python",
   "nbconvert_exporter": "python",
   "pygments_lexer": "ipython3",
   "version": "3.7.3"
  }
 },
 "nbformat": 4,
 "nbformat_minor": 2
}
