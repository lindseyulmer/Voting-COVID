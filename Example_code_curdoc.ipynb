{
 "cells": [
  {
   "cell_type": "code",
   "execution_count": 1,
   "metadata": {},
   "outputs": [],
   "source": [
    "import pandas as pd\n",
    "from bokeh.models import CategoricalColorMapper\n",
    "from bokeh.palettes import Spectral6\n",
    "from bokeh.io import curdoc\n",
    "from bokeh.plotting import figure, show\n",
    "from bokeh.models import ColumnDataSource, Select, Column\n",
    "from bokeh.layouts import widgetbox, row\n",
    "from bokeh.models import Slider\n",
    "from bokeh.models import HoverTool"
   ]
  },
  {
   "cell_type": "code",
   "execution_count": 2,
   "metadata": {
    "scrolled": true
   },
   "outputs": [],
   "source": [
    "data=pd.read_csv('covid.csv')\n"
   ]
  },
  {
   "cell_type": "code",
   "execution_count": 3,
   "metadata": {},
   "outputs": [
    {
     "data": {
      "text/html": [
       "<div>\n",
       "<style scoped>\n",
       "    .dataframe tbody tr th:only-of-type {\n",
       "        vertical-align: middle;\n",
       "    }\n",
       "\n",
       "    .dataframe tbody tr th {\n",
       "        vertical-align: top;\n",
       "    }\n",
       "\n",
       "    .dataframe thead th {\n",
       "        text-align: right;\n",
       "    }\n",
       "</style>\n",
       "<table border=\"1\" class=\"dataframe\">\n",
       "  <thead>\n",
       "    <tr style=\"text-align: right;\">\n",
       "      <th></th>\n",
       "      <th>submission_date</th>\n",
       "      <th>state</th>\n",
       "      <th>tot_cases</th>\n",
       "      <th>conf_cases</th>\n",
       "      <th>prob_cases</th>\n",
       "      <th>new_case</th>\n",
       "      <th>pnew_case</th>\n",
       "      <th>tot_death</th>\n",
       "      <th>conf_death</th>\n",
       "      <th>prob_death</th>\n",
       "      <th>new_death</th>\n",
       "      <th>pnew_death</th>\n",
       "      <th>created_at</th>\n",
       "      <th>consent_cases</th>\n",
       "      <th>consent_deaths</th>\n",
       "    </tr>\n",
       "  </thead>\n",
       "  <tbody>\n",
       "    <tr>\n",
       "      <th>293</th>\n",
       "      <td>11/10/2020</td>\n",
       "      <td>CO</td>\n",
       "      <td>138427</td>\n",
       "      <td>130668.0</td>\n",
       "      <td>7759.0</td>\n",
       "      <td>3890</td>\n",
       "      <td>59.0</td>\n",
       "      <td>2427</td>\n",
       "      <td>2024.0</td>\n",
       "      <td>403.0</td>\n",
       "      <td>19</td>\n",
       "      <td>2.0</td>\n",
       "      <td>11/11/2020 03:14:03 PM</td>\n",
       "      <td>Agree</td>\n",
       "      <td>Agree</td>\n",
       "    </tr>\n",
       "    <tr>\n",
       "      <th>587</th>\n",
       "      <td>11/10/2020</td>\n",
       "      <td>FL</td>\n",
       "      <td>840652</td>\n",
       "      <td>NaN</td>\n",
       "      <td>NaN</td>\n",
       "      <td>4282</td>\n",
       "      <td>1017.0</td>\n",
       "      <td>17248</td>\n",
       "      <td>NaN</td>\n",
       "      <td>NaN</td>\n",
       "      <td>69</td>\n",
       "      <td>4.0</td>\n",
       "      <td>11/11/2020 03:14:03 PM</td>\n",
       "      <td>Not agree</td>\n",
       "      <td>Not agree</td>\n",
       "    </tr>\n",
       "    <tr>\n",
       "      <th>881</th>\n",
       "      <td>11/10/2020</td>\n",
       "      <td>AZ</td>\n",
       "      <td>263133</td>\n",
       "      <td>256317.0</td>\n",
       "      <td>6816.0</td>\n",
       "      <td>3434</td>\n",
       "      <td>118.0</td>\n",
       "      <td>6192</td>\n",
       "      <td>5757.0</td>\n",
       "      <td>435.0</td>\n",
       "      <td>28</td>\n",
       "      <td>16.0</td>\n",
       "      <td>11/11/2020 03:14:03 PM</td>\n",
       "      <td>Agree</td>\n",
       "      <td>Agree</td>\n",
       "    </tr>\n",
       "    <tr>\n",
       "      <th>1175</th>\n",
       "      <td>11/10/2020</td>\n",
       "      <td>SC</td>\n",
       "      <td>187738</td>\n",
       "      <td>177515.0</td>\n",
       "      <td>10223.0</td>\n",
       "      <td>1347</td>\n",
       "      <td>205.0</td>\n",
       "      <td>4062</td>\n",
       "      <td>3795.0</td>\n",
       "      <td>267.0</td>\n",
       "      <td>21</td>\n",
       "      <td>4.0</td>\n",
       "      <td>11/11/2020 03:14:03 PM</td>\n",
       "      <td>Agree</td>\n",
       "      <td>Agree</td>\n",
       "    </tr>\n",
       "    <tr>\n",
       "      <th>1469</th>\n",
       "      <td>11/10/2020</td>\n",
       "      <td>CT</td>\n",
       "      <td>82987</td>\n",
       "      <td>77708.0</td>\n",
       "      <td>5279.0</td>\n",
       "      <td>1524</td>\n",
       "      <td>72.0</td>\n",
       "      <td>4707</td>\n",
       "      <td>3785.0</td>\n",
       "      <td>922.0</td>\n",
       "      <td>9</td>\n",
       "      <td>3.0</td>\n",
       "      <td>11/11/2020 03:14:03 PM</td>\n",
       "      <td>Agree</td>\n",
       "      <td>Agree</td>\n",
       "    </tr>\n",
       "    <tr>\n",
       "      <th>1763</th>\n",
       "      <td>11/10/2020</td>\n",
       "      <td>NE</td>\n",
       "      <td>87733</td>\n",
       "      <td>NaN</td>\n",
       "      <td>NaN</td>\n",
       "      <td>2182</td>\n",
       "      <td>0.0</td>\n",
       "      <td>730</td>\n",
       "      <td>NaN</td>\n",
       "      <td>NaN</td>\n",
       "      <td>20</td>\n",
       "      <td>0.0</td>\n",
       "      <td>11/11/2020 03:14:03 PM</td>\n",
       "      <td>Not agree</td>\n",
       "      <td>Not agree</td>\n",
       "    </tr>\n",
       "    <tr>\n",
       "      <th>2057</th>\n",
       "      <td>11/10/2020</td>\n",
       "      <td>KY</td>\n",
       "      <td>124646</td>\n",
       "      <td>103849.0</td>\n",
       "      <td>20797.0</td>\n",
       "      <td>2079</td>\n",
       "      <td>603.0</td>\n",
       "      <td>1590</td>\n",
       "      <td>1562.0</td>\n",
       "      <td>28.0</td>\n",
       "      <td>14</td>\n",
       "      <td>1.0</td>\n",
       "      <td>11/11/2020 03:14:03 PM</td>\n",
       "      <td>Agree</td>\n",
       "      <td>Agree</td>\n",
       "    </tr>\n",
       "    <tr>\n",
       "      <th>2351</th>\n",
       "      <td>11/10/2020</td>\n",
       "      <td>WY</td>\n",
       "      <td>19242</td>\n",
       "      <td>16442.0</td>\n",
       "      <td>2800.0</td>\n",
       "      <td>1232</td>\n",
       "      <td>101.0</td>\n",
       "      <td>127</td>\n",
       "      <td>127.0</td>\n",
       "      <td>0.0</td>\n",
       "      <td>13</td>\n",
       "      <td>0.0</td>\n",
       "      <td>11/11/2020 03:14:03 PM</td>\n",
       "      <td>Agree</td>\n",
       "      <td>Agree</td>\n",
       "    </tr>\n",
       "    <tr>\n",
       "      <th>2645</th>\n",
       "      <td>11/10/2020</td>\n",
       "      <td>IA</td>\n",
       "      <td>161803</td>\n",
       "      <td>NaN</td>\n",
       "      <td>NaN</td>\n",
       "      <td>3899</td>\n",
       "      <td>1154.0</td>\n",
       "      <td>1874</td>\n",
       "      <td>NaN</td>\n",
       "      <td>NaN</td>\n",
       "      <td>24</td>\n",
       "      <td>0.0</td>\n",
       "      <td>11/11/2020 03:14:03 PM</td>\n",
       "      <td>Not agree</td>\n",
       "      <td>Not agree</td>\n",
       "    </tr>\n",
       "    <tr>\n",
       "      <th>2939</th>\n",
       "      <td>11/10/2020</td>\n",
       "      <td>NM</td>\n",
       "      <td>57547</td>\n",
       "      <td>NaN</td>\n",
       "      <td>NaN</td>\n",
       "      <td>1258</td>\n",
       "      <td>0.0</td>\n",
       "      <td>1144</td>\n",
       "      <td>NaN</td>\n",
       "      <td>NaN</td>\n",
       "      <td>14</td>\n",
       "      <td>0.0</td>\n",
       "      <td>11/11/2020 03:14:03 PM</td>\n",
       "      <td>NaN</td>\n",
       "      <td>Not agree</td>\n",
       "    </tr>\n",
       "    <tr>\n",
       "      <th>3233</th>\n",
       "      <td>11/10/2020</td>\n",
       "      <td>ND</td>\n",
       "      <td>57373</td>\n",
       "      <td>NaN</td>\n",
       "      <td>NaN</td>\n",
       "      <td>1031</td>\n",
       "      <td>0.0</td>\n",
       "      <td>686</td>\n",
       "      <td>NaN</td>\n",
       "      <td>NaN</td>\n",
       "      <td>12</td>\n",
       "      <td>0.0</td>\n",
       "      <td>11/11/2020 03:14:03 PM</td>\n",
       "      <td>Not agree</td>\n",
       "      <td>Not agree</td>\n",
       "    </tr>\n",
       "    <tr>\n",
       "      <th>3527</th>\n",
       "      <td>11/10/2020</td>\n",
       "      <td>WA</td>\n",
       "      <td>120011</td>\n",
       "      <td>NaN</td>\n",
       "      <td>NaN</td>\n",
       "      <td>1441</td>\n",
       "      <td>0.0</td>\n",
       "      <td>2482</td>\n",
       "      <td>NaN</td>\n",
       "      <td>NaN</td>\n",
       "      <td>22</td>\n",
       "      <td>0.0</td>\n",
       "      <td>11/11/2020 03:14:03 PM</td>\n",
       "      <td>NaN</td>\n",
       "      <td>NaN</td>\n",
       "    </tr>\n",
       "    <tr>\n",
       "      <th>3821</th>\n",
       "      <td>11/10/2020</td>\n",
       "      <td>RMI</td>\n",
       "      <td>1</td>\n",
       "      <td>1.0</td>\n",
       "      <td>0.0</td>\n",
       "      <td>0</td>\n",
       "      <td>0.0</td>\n",
       "      <td>0</td>\n",
       "      <td>0.0</td>\n",
       "      <td>0.0</td>\n",
       "      <td>0</td>\n",
       "      <td>0.0</td>\n",
       "      <td>11/11/2020 03:14:03 PM</td>\n",
       "      <td>Agree</td>\n",
       "      <td>Agree</td>\n",
       "    </tr>\n",
       "    <tr>\n",
       "      <th>4115</th>\n",
       "      <td>11/10/2020</td>\n",
       "      <td>TN</td>\n",
       "      <td>289749</td>\n",
       "      <td>271405.0</td>\n",
       "      <td>18344.0</td>\n",
       "      <td>1979</td>\n",
       "      <td>321.0</td>\n",
       "      <td>3672</td>\n",
       "      <td>3440.0</td>\n",
       "      <td>232.0</td>\n",
       "      <td>62</td>\n",
       "      <td>10.0</td>\n",
       "      <td>11/11/2020 03:14:03 PM</td>\n",
       "      <td>Agree</td>\n",
       "      <td>Agree</td>\n",
       "    </tr>\n",
       "    <tr>\n",
       "      <th>4409</th>\n",
       "      <td>11/10/2020</td>\n",
       "      <td>AS</td>\n",
       "      <td>3</td>\n",
       "      <td>NaN</td>\n",
       "      <td>NaN</td>\n",
       "      <td>0</td>\n",
       "      <td>0.0</td>\n",
       "      <td>0</td>\n",
       "      <td>NaN</td>\n",
       "      <td>NaN</td>\n",
       "      <td>0</td>\n",
       "      <td>0.0</td>\n",
       "      <td>11/11/2020 03:14:03 PM</td>\n",
       "      <td>NaN</td>\n",
       "      <td>NaN</td>\n",
       "    </tr>\n",
       "    <tr>\n",
       "      <th>4703</th>\n",
       "      <td>11/10/2020</td>\n",
       "      <td>MA</td>\n",
       "      <td>179872</td>\n",
       "      <td>169976.0</td>\n",
       "      <td>9896.0</td>\n",
       "      <td>2047</td>\n",
       "      <td>0.0</td>\n",
       "      <td>10165</td>\n",
       "      <td>9957.0</td>\n",
       "      <td>208.0</td>\n",
       "      <td>21</td>\n",
       "      <td>0.0</td>\n",
       "      <td>11/11/2020 03:14:03 PM</td>\n",
       "      <td>Agree</td>\n",
       "      <td>Agree</td>\n",
       "    </tr>\n",
       "    <tr>\n",
       "      <th>4997</th>\n",
       "      <td>11/10/2020</td>\n",
       "      <td>PA</td>\n",
       "      <td>238657</td>\n",
       "      <td>225150.0</td>\n",
       "      <td>13507.0</td>\n",
       "      <td>4361</td>\n",
       "      <td>648.0</td>\n",
       "      <td>9086</td>\n",
       "      <td>NaN</td>\n",
       "      <td>NaN</td>\n",
       "      <td>62</td>\n",
       "      <td>31.0</td>\n",
       "      <td>11/11/2020 03:14:03 PM</td>\n",
       "      <td>Agree</td>\n",
       "      <td>Not agree</td>\n",
       "    </tr>\n",
       "    <tr>\n",
       "      <th>5291</th>\n",
       "      <td>11/10/2020</td>\n",
       "      <td>NYC</td>\n",
       "      <td>277249</td>\n",
       "      <td>264812.0</td>\n",
       "      <td>12437.0</td>\n",
       "      <td>1160</td>\n",
       "      <td>5.0</td>\n",
       "      <td>24096</td>\n",
       "      <td>19427.0</td>\n",
       "      <td>4669.0</td>\n",
       "      <td>9</td>\n",
       "      <td>1.0</td>\n",
       "      <td>11/11/2020 03:14:03 PM</td>\n",
       "      <td>Agree</td>\n",
       "      <td>Agree</td>\n",
       "    </tr>\n",
       "    <tr>\n",
       "      <th>5585</th>\n",
       "      <td>11/10/2020</td>\n",
       "      <td>OH</td>\n",
       "      <td>261482</td>\n",
       "      <td>247260.0</td>\n",
       "      <td>14222.0</td>\n",
       "      <td>6508</td>\n",
       "      <td>343.0</td>\n",
       "      <td>5547</td>\n",
       "      <td>5212.0</td>\n",
       "      <td>335.0</td>\n",
       "      <td>23</td>\n",
       "      <td>4.0</td>\n",
       "      <td>11/11/2020 03:14:03 PM</td>\n",
       "      <td>Agree</td>\n",
       "      <td>Agree</td>\n",
       "    </tr>\n",
       "    <tr>\n",
       "      <th>5879</th>\n",
       "      <td>11/10/2020</td>\n",
       "      <td>AL</td>\n",
       "      <td>206567</td>\n",
       "      <td>174987.0</td>\n",
       "      <td>31580.0</td>\n",
       "      <td>1710</td>\n",
       "      <td>577.0</td>\n",
       "      <td>3120</td>\n",
       "      <td>2890.0</td>\n",
       "      <td>230.0</td>\n",
       "      <td>36</td>\n",
       "      <td>11.0</td>\n",
       "      <td>11/11/2020 03:14:03 PM</td>\n",
       "      <td>Agree</td>\n",
       "      <td>Agree</td>\n",
       "    </tr>\n",
       "    <tr>\n",
       "      <th>6173</th>\n",
       "      <td>11/10/2020</td>\n",
       "      <td>VA</td>\n",
       "      <td>196507</td>\n",
       "      <td>179687.0</td>\n",
       "      <td>16820.0</td>\n",
       "      <td>1594</td>\n",
       "      <td>340.0</td>\n",
       "      <td>3741</td>\n",
       "      <td>3474.0</td>\n",
       "      <td>267.0</td>\n",
       "      <td>15</td>\n",
       "      <td>1.0</td>\n",
       "      <td>11/11/2020 03:14:03 PM</td>\n",
       "      <td>Agree</td>\n",
       "      <td>Agree</td>\n",
       "    </tr>\n",
       "    <tr>\n",
       "      <th>6467</th>\n",
       "      <td>11/10/2020</td>\n",
       "      <td>MI</td>\n",
       "      <td>245252</td>\n",
       "      <td>223277.0</td>\n",
       "      <td>21975.0</td>\n",
       "      <td>6944</td>\n",
       "      <td>471.0</td>\n",
       "      <td>8094</td>\n",
       "      <td>7724.0</td>\n",
       "      <td>370.0</td>\n",
       "      <td>86</td>\n",
       "      <td>2.0</td>\n",
       "      <td>11/11/2020 03:14:03 PM</td>\n",
       "      <td>Agree</td>\n",
       "      <td>Agree</td>\n",
       "    </tr>\n",
       "    <tr>\n",
       "      <th>6761</th>\n",
       "      <td>11/10/2020</td>\n",
       "      <td>MS</td>\n",
       "      <td>129394</td>\n",
       "      <td>109679.0</td>\n",
       "      <td>19715.0</td>\n",
       "      <td>1256</td>\n",
       "      <td>664.0</td>\n",
       "      <td>3497</td>\n",
       "      <td>3108.0</td>\n",
       "      <td>389.0</td>\n",
       "      <td>17</td>\n",
       "      <td>4.0</td>\n",
       "      <td>11/11/2020 03:14:03 PM</td>\n",
       "      <td>Agree</td>\n",
       "      <td>Agree</td>\n",
       "    </tr>\n",
       "    <tr>\n",
       "      <th>7055</th>\n",
       "      <td>11/10/2020</td>\n",
       "      <td>IL</td>\n",
       "      <td>511183</td>\n",
       "      <td>511183.0</td>\n",
       "      <td>0.0</td>\n",
       "      <td>12623</td>\n",
       "      <td>0.0</td>\n",
       "      <td>10645</td>\n",
       "      <td>10289.0</td>\n",
       "      <td>356.0</td>\n",
       "      <td>82</td>\n",
       "      <td>3.0</td>\n",
       "      <td>11/11/2020 03:14:03 PM</td>\n",
       "      <td>Agree</td>\n",
       "      <td>Agree</td>\n",
       "    </tr>\n",
       "    <tr>\n",
       "      <th>7349</th>\n",
       "      <td>11/10/2020</td>\n",
       "      <td>WI</td>\n",
       "      <td>293812</td>\n",
       "      <td>278843.0</td>\n",
       "      <td>14969.0</td>\n",
       "      <td>7432</td>\n",
       "      <td>359.0</td>\n",
       "      <td>2482</td>\n",
       "      <td>2395.0</td>\n",
       "      <td>87.0</td>\n",
       "      <td>72</td>\n",
       "      <td>6.0</td>\n",
       "      <td>11/11/2020 03:14:03 PM</td>\n",
       "      <td>Agree</td>\n",
       "      <td>Agree</td>\n",
       "    </tr>\n",
       "    <tr>\n",
       "      <th>7643</th>\n",
       "      <td>11/10/2020</td>\n",
       "      <td>PR</td>\n",
       "      <td>39120</td>\n",
       "      <td>38799.0</td>\n",
       "      <td>321.0</td>\n",
       "      <td>264</td>\n",
       "      <td>146.0</td>\n",
       "      <td>901</td>\n",
       "      <td>693.0</td>\n",
       "      <td>208.0</td>\n",
       "      <td>12</td>\n",
       "      <td>1.0</td>\n",
       "      <td>11/11/2020 03:14:03 PM</td>\n",
       "      <td>Agree</td>\n",
       "      <td>Agree</td>\n",
       "    </tr>\n",
       "    <tr>\n",
       "      <th>7937</th>\n",
       "      <td>11/10/2020</td>\n",
       "      <td>OK</td>\n",
       "      <td>150578</td>\n",
       "      <td>127861.0</td>\n",
       "      <td>22717.0</td>\n",
       "      <td>2175</td>\n",
       "      <td>464.0</td>\n",
       "      <td>1496</td>\n",
       "      <td>1450.0</td>\n",
       "      <td>46.0</td>\n",
       "      <td>31</td>\n",
       "      <td>2.0</td>\n",
       "      <td>11/11/2020 03:14:03 PM</td>\n",
       "      <td>Agree</td>\n",
       "      <td>Agree</td>\n",
       "    </tr>\n",
       "    <tr>\n",
       "      <th>8231</th>\n",
       "      <td>11/10/2020</td>\n",
       "      <td>NC</td>\n",
       "      <td>297442</td>\n",
       "      <td>283895.0</td>\n",
       "      <td>13547.0</td>\n",
       "      <td>2582</td>\n",
       "      <td>366.0</td>\n",
       "      <td>4660</td>\n",
       "      <td>4562.0</td>\n",
       "      <td>98.0</td>\n",
       "      <td>45</td>\n",
       "      <td>4.0</td>\n",
       "      <td>11/11/2020 03:14:03 PM</td>\n",
       "      <td>Agree</td>\n",
       "      <td>Agree</td>\n",
       "    </tr>\n",
       "    <tr>\n",
       "      <th>8525</th>\n",
       "      <td>11/10/2020</td>\n",
       "      <td>TX</td>\n",
       "      <td>974230</td>\n",
       "      <td>NaN</td>\n",
       "      <td>NaN</td>\n",
       "      <td>11211</td>\n",
       "      <td>0.0</td>\n",
       "      <td>18863</td>\n",
       "      <td>NaN</td>\n",
       "      <td>NaN</td>\n",
       "      <td>94</td>\n",
       "      <td>0.0</td>\n",
       "      <td>11/11/2020 03:14:03 PM</td>\n",
       "      <td>Not agree</td>\n",
       "      <td>Not agree</td>\n",
       "    </tr>\n",
       "    <tr>\n",
       "      <th>8819</th>\n",
       "      <td>11/10/2020</td>\n",
       "      <td>CA</td>\n",
       "      <td>977218</td>\n",
       "      <td>NaN</td>\n",
       "      <td>NaN</td>\n",
       "      <td>5367</td>\n",
       "      <td>0.0</td>\n",
       "      <td>18001</td>\n",
       "      <td>NaN</td>\n",
       "      <td>NaN</td>\n",
       "      <td>24</td>\n",
       "      <td>0.0</td>\n",
       "      <td>11/11/2020 03:14:03 PM</td>\n",
       "      <td>Not agree</td>\n",
       "      <td>Not agree</td>\n",
       "    </tr>\n",
       "    <tr>\n",
       "      <th>9113</th>\n",
       "      <td>11/10/2020</td>\n",
       "      <td>NJ</td>\n",
       "      <td>260430</td>\n",
       "      <td>NaN</td>\n",
       "      <td>NaN</td>\n",
       "      <td>3777</td>\n",
       "      <td>0.0</td>\n",
       "      <td>16461</td>\n",
       "      <td>14661.0</td>\n",
       "      <td>1800.0</td>\n",
       "      <td>21</td>\n",
       "      <td>0.0</td>\n",
       "      <td>11/11/2020 03:14:03 PM</td>\n",
       "      <td>Not agree</td>\n",
       "      <td>Agree</td>\n",
       "    </tr>\n",
       "    <tr>\n",
       "      <th>9407</th>\n",
       "      <td>11/10/2020</td>\n",
       "      <td>LA</td>\n",
       "      <td>194702</td>\n",
       "      <td>NaN</td>\n",
       "      <td>NaN</td>\n",
       "      <td>1330</td>\n",
       "      <td>0.0</td>\n",
       "      <td>6058</td>\n",
       "      <td>5829.0</td>\n",
       "      <td>229.0</td>\n",
       "      <td>10</td>\n",
       "      <td>0.0</td>\n",
       "      <td>11/11/2020 03:14:03 PM</td>\n",
       "      <td>Not agree</td>\n",
       "      <td>Agree</td>\n",
       "    </tr>\n",
       "    <tr>\n",
       "      <th>9701</th>\n",
       "      <td>11/10/2020</td>\n",
       "      <td>ID</td>\n",
       "      <td>75428</td>\n",
       "      <td>64875.0</td>\n",
       "      <td>10553.0</td>\n",
       "      <td>1201</td>\n",
       "      <td>237.0</td>\n",
       "      <td>714</td>\n",
       "      <td>660.0</td>\n",
       "      <td>54.0</td>\n",
       "      <td>16</td>\n",
       "      <td>2.0</td>\n",
       "      <td>11/11/2020 03:14:03 PM</td>\n",
       "      <td>Agree</td>\n",
       "      <td>Agree</td>\n",
       "    </tr>\n",
       "    <tr>\n",
       "      <th>9995</th>\n",
       "      <td>11/10/2020</td>\n",
       "      <td>NV</td>\n",
       "      <td>112304</td>\n",
       "      <td>NaN</td>\n",
       "      <td>NaN</td>\n",
       "      <td>1322</td>\n",
       "      <td>0.0</td>\n",
       "      <td>1859</td>\n",
       "      <td>NaN</td>\n",
       "      <td>NaN</td>\n",
       "      <td>7</td>\n",
       "      <td>0.0</td>\n",
       "      <td>11/11/2020 03:14:03 PM</td>\n",
       "      <td>NaN</td>\n",
       "      <td>NaN</td>\n",
       "    </tr>\n",
       "    <tr>\n",
       "      <th>10289</th>\n",
       "      <td>11/10/2020</td>\n",
       "      <td>GA</td>\n",
       "      <td>376054</td>\n",
       "      <td>NaN</td>\n",
       "      <td>NaN</td>\n",
       "      <td>1873</td>\n",
       "      <td>0.0</td>\n",
       "      <td>8730</td>\n",
       "      <td>NaN</td>\n",
       "      <td>NaN</td>\n",
       "      <td>507</td>\n",
       "      <td>466.0</td>\n",
       "      <td>11/11/2020 03:14:03 PM</td>\n",
       "      <td>Not agree</td>\n",
       "      <td>Not agree</td>\n",
       "    </tr>\n",
       "    <tr>\n",
       "      <th>10583</th>\n",
       "      <td>11/10/2020</td>\n",
       "      <td>IN</td>\n",
       "      <td>219338</td>\n",
       "      <td>NaN</td>\n",
       "      <td>NaN</td>\n",
       "      <td>4829</td>\n",
       "      <td>0.0</td>\n",
       "      <td>4731</td>\n",
       "      <td>4481.0</td>\n",
       "      <td>250.0</td>\n",
       "      <td>67</td>\n",
       "      <td>4.0</td>\n",
       "      <td>11/11/2020 03:14:03 PM</td>\n",
       "      <td>Not agree</td>\n",
       "      <td>Agree</td>\n",
       "    </tr>\n",
       "    <tr>\n",
       "      <th>10877</th>\n",
       "      <td>11/10/2020</td>\n",
       "      <td>MD</td>\n",
       "      <td>158423</td>\n",
       "      <td>NaN</td>\n",
       "      <td>NaN</td>\n",
       "      <td>1714</td>\n",
       "      <td>0.0</td>\n",
       "      <td>4249</td>\n",
       "      <td>4100.0</td>\n",
       "      <td>149.0</td>\n",
       "      <td>16</td>\n",
       "      <td>0.0</td>\n",
       "      <td>11/11/2020 03:14:03 PM</td>\n",
       "      <td>NaN</td>\n",
       "      <td>Agree</td>\n",
       "    </tr>\n",
       "    <tr>\n",
       "      <th>11171</th>\n",
       "      <td>11/10/2020</td>\n",
       "      <td>NY</td>\n",
       "      <td>262562</td>\n",
       "      <td>NaN</td>\n",
       "      <td>NaN</td>\n",
       "      <td>2757</td>\n",
       "      <td>0.0</td>\n",
       "      <td>9399</td>\n",
       "      <td>NaN</td>\n",
       "      <td>NaN</td>\n",
       "      <td>28</td>\n",
       "      <td>0.0</td>\n",
       "      <td>11/11/2020 03:14:03 PM</td>\n",
       "      <td>Not agree</td>\n",
       "      <td>Not agree</td>\n",
       "    </tr>\n",
       "    <tr>\n",
       "      <th>11465</th>\n",
       "      <td>11/10/2020</td>\n",
       "      <td>AR</td>\n",
       "      <td>124235</td>\n",
       "      <td>NaN</td>\n",
       "      <td>NaN</td>\n",
       "      <td>1424</td>\n",
       "      <td>449.0</td>\n",
       "      <td>2112</td>\n",
       "      <td>NaN</td>\n",
       "      <td>NaN</td>\n",
       "      <td>4</td>\n",
       "      <td>0.0</td>\n",
       "      <td>11/11/2020 03:14:03 PM</td>\n",
       "      <td>Not agree</td>\n",
       "      <td>Not agree</td>\n",
       "    </tr>\n",
       "    <tr>\n",
       "      <th>11759</th>\n",
       "      <td>11/10/2020</td>\n",
       "      <td>MN</td>\n",
       "      <td>189681</td>\n",
       "      <td>NaN</td>\n",
       "      <td>NaN</td>\n",
       "      <td>4893</td>\n",
       "      <td>63.0</td>\n",
       "      <td>2752</td>\n",
       "      <td>2668.0</td>\n",
       "      <td>84.0</td>\n",
       "      <td>23</td>\n",
       "      <td>0.0</td>\n",
       "      <td>11/11/2020 03:14:03 PM</td>\n",
       "      <td>NaN</td>\n",
       "      <td>Agree</td>\n",
       "    </tr>\n",
       "    <tr>\n",
       "      <th>12053</th>\n",
       "      <td>11/10/2020</td>\n",
       "      <td>OR</td>\n",
       "      <td>51909</td>\n",
       "      <td>50189.0</td>\n",
       "      <td>1720.0</td>\n",
       "      <td>754</td>\n",
       "      <td>0.0</td>\n",
       "      <td>737</td>\n",
       "      <td>722.0</td>\n",
       "      <td>15.0</td>\n",
       "      <td>3</td>\n",
       "      <td>0.0</td>\n",
       "      <td>11/11/2020 03:14:03 PM</td>\n",
       "      <td>Agree</td>\n",
       "      <td>Agree</td>\n",
       "    </tr>\n",
       "    <tr>\n",
       "      <th>12347</th>\n",
       "      <td>11/10/2020</td>\n",
       "      <td>UT</td>\n",
       "      <td>137385</td>\n",
       "      <td>137385.0</td>\n",
       "      <td>0.0</td>\n",
       "      <td>2517</td>\n",
       "      <td>0.0</td>\n",
       "      <td>672</td>\n",
       "      <td>663.0</td>\n",
       "      <td>9.0</td>\n",
       "      <td>11</td>\n",
       "      <td>-1.0</td>\n",
       "      <td>11/11/2020 03:14:03 PM</td>\n",
       "      <td>Agree</td>\n",
       "      <td>Agree</td>\n",
       "    </tr>\n",
       "    <tr>\n",
       "      <th>12641</th>\n",
       "      <td>11/10/2020</td>\n",
       "      <td>WV</td>\n",
       "      <td>29316</td>\n",
       "      <td>26311.0</td>\n",
       "      <td>3005.0</td>\n",
       "      <td>511</td>\n",
       "      <td>210.0</td>\n",
       "      <td>546</td>\n",
       "      <td>NaN</td>\n",
       "      <td>NaN</td>\n",
       "      <td>16</td>\n",
       "      <td>5.0</td>\n",
       "      <td>11/11/2020 03:14:03 PM</td>\n",
       "      <td>Agree</td>\n",
       "      <td>Not agree</td>\n",
       "    </tr>\n",
       "    <tr>\n",
       "      <th>12935</th>\n",
       "      <td>11/10/2020</td>\n",
       "      <td>MO</td>\n",
       "      <td>216697</td>\n",
       "      <td>NaN</td>\n",
       "      <td>NaN</td>\n",
       "      <td>4256</td>\n",
       "      <td>0.0</td>\n",
       "      <td>3299</td>\n",
       "      <td>NaN</td>\n",
       "      <td>NaN</td>\n",
       "      <td>146</td>\n",
       "      <td>0.0</td>\n",
       "      <td>11/11/2020 03:14:03 PM</td>\n",
       "      <td>Not agree</td>\n",
       "      <td>Not agree</td>\n",
       "    </tr>\n",
       "    <tr>\n",
       "      <th>13229</th>\n",
       "      <td>11/10/2020</td>\n",
       "      <td>DE</td>\n",
       "      <td>27342</td>\n",
       "      <td>26121.0</td>\n",
       "      <td>1221.0</td>\n",
       "      <td>230</td>\n",
       "      <td>7.0</td>\n",
       "      <td>724</td>\n",
       "      <td>637.0</td>\n",
       "      <td>87.0</td>\n",
       "      <td>2</td>\n",
       "      <td>0.0</td>\n",
       "      <td>11/11/2020 03:14:03 PM</td>\n",
       "      <td>Agree</td>\n",
       "      <td>Agree</td>\n",
       "    </tr>\n",
       "    <tr>\n",
       "      <th>13523</th>\n",
       "      <td>11/10/2020</td>\n",
       "      <td>SD</td>\n",
       "      <td>57334</td>\n",
       "      <td>NaN</td>\n",
       "      <td>NaN</td>\n",
       "      <td>1023</td>\n",
       "      <td>6.0</td>\n",
       "      <td>540</td>\n",
       "      <td>500.0</td>\n",
       "      <td>40.0</td>\n",
       "      <td>3</td>\n",
       "      <td>-1.0</td>\n",
       "      <td>11/11/2020 03:14:03 PM</td>\n",
       "      <td>NaN</td>\n",
       "      <td>Agree</td>\n",
       "    </tr>\n",
       "    <tr>\n",
       "      <th>13817</th>\n",
       "      <td>11/10/2020</td>\n",
       "      <td>RI</td>\n",
       "      <td>38798</td>\n",
       "      <td>NaN</td>\n",
       "      <td>NaN</td>\n",
       "      <td>789</td>\n",
       "      <td>0.0</td>\n",
       "      <td>1237</td>\n",
       "      <td>NaN</td>\n",
       "      <td>NaN</td>\n",
       "      <td>4</td>\n",
       "      <td>0.0</td>\n",
       "      <td>11/11/2020 03:14:03 PM</td>\n",
       "      <td>Not agree</td>\n",
       "      <td>NaN</td>\n",
       "    </tr>\n",
       "    <tr>\n",
       "      <th>14111</th>\n",
       "      <td>11/10/2020</td>\n",
       "      <td>KS</td>\n",
       "      <td>103553</td>\n",
       "      <td>92562.0</td>\n",
       "      <td>10991.0</td>\n",
       "      <td>0</td>\n",
       "      <td>0.0</td>\n",
       "      <td>1181</td>\n",
       "      <td>NaN</td>\n",
       "      <td>NaN</td>\n",
       "      <td>0</td>\n",
       "      <td>0.0</td>\n",
       "      <td>11/11/2020 03:14:03 PM</td>\n",
       "      <td>Agree</td>\n",
       "      <td>NaN</td>\n",
       "    </tr>\n",
       "    <tr>\n",
       "      <th>14405</th>\n",
       "      <td>11/10/2020</td>\n",
       "      <td>ME</td>\n",
       "      <td>8202</td>\n",
       "      <td>7300.0</td>\n",
       "      <td>902.0</td>\n",
       "      <td>142</td>\n",
       "      <td>15.0</td>\n",
       "      <td>158</td>\n",
       "      <td>NaN</td>\n",
       "      <td>NaN</td>\n",
       "      <td>2</td>\n",
       "      <td>0.0</td>\n",
       "      <td>11/11/2020 03:14:03 PM</td>\n",
       "      <td>Agree</td>\n",
       "      <td>NaN</td>\n",
       "    </tr>\n",
       "    <tr>\n",
       "      <th>14699</th>\n",
       "      <td>11/10/2020</td>\n",
       "      <td>NH</td>\n",
       "      <td>12919</td>\n",
       "      <td>NaN</td>\n",
       "      <td>NaN</td>\n",
       "      <td>220</td>\n",
       "      <td>-1266.0</td>\n",
       "      <td>489</td>\n",
       "      <td>NaN</td>\n",
       "      <td>NaN</td>\n",
       "      <td>0</td>\n",
       "      <td>-6.0</td>\n",
       "      <td>11/11/2020 03:14:03 PM</td>\n",
       "      <td>Not agree</td>\n",
       "      <td>Not agree</td>\n",
       "    </tr>\n",
       "    <tr>\n",
       "      <th>14993</th>\n",
       "      <td>11/10/2020</td>\n",
       "      <td>DC</td>\n",
       "      <td>18173</td>\n",
       "      <td>NaN</td>\n",
       "      <td>NaN</td>\n",
       "      <td>86</td>\n",
       "      <td>0.0</td>\n",
       "      <td>657</td>\n",
       "      <td>NaN</td>\n",
       "      <td>NaN</td>\n",
       "      <td>2</td>\n",
       "      <td>0.0</td>\n",
       "      <td>11/11/2020 03:14:03 PM</td>\n",
       "      <td>NaN</td>\n",
       "      <td>NaN</td>\n",
       "    </tr>\n",
       "    <tr>\n",
       "      <th>15287</th>\n",
       "      <td>11/10/2020</td>\n",
       "      <td>MT</td>\n",
       "      <td>41151</td>\n",
       "      <td>41151.0</td>\n",
       "      <td>0.0</td>\n",
       "      <td>1098</td>\n",
       "      <td>0.0</td>\n",
       "      <td>462</td>\n",
       "      <td>462.0</td>\n",
       "      <td>0.0</td>\n",
       "      <td>5</td>\n",
       "      <td>0.0</td>\n",
       "      <td>11/11/2020 03:14:03 PM</td>\n",
       "      <td>Agree</td>\n",
       "      <td>Agree</td>\n",
       "    </tr>\n",
       "    <tr>\n",
       "      <th>15581</th>\n",
       "      <td>11/10/2020</td>\n",
       "      <td>HI</td>\n",
       "      <td>15961</td>\n",
       "      <td>NaN</td>\n",
       "      <td>NaN</td>\n",
       "      <td>69</td>\n",
       "      <td>0.0</td>\n",
       "      <td>221</td>\n",
       "      <td>NaN</td>\n",
       "      <td>NaN</td>\n",
       "      <td>1</td>\n",
       "      <td>0.0</td>\n",
       "      <td>11/11/2020 03:14:03 PM</td>\n",
       "      <td>Not agree</td>\n",
       "      <td>Not agree</td>\n",
       "    </tr>\n",
       "    <tr>\n",
       "      <th>15875</th>\n",
       "      <td>11/10/2020</td>\n",
       "      <td>AK</td>\n",
       "      <td>19712</td>\n",
       "      <td>NaN</td>\n",
       "      <td>NaN</td>\n",
       "      <td>525</td>\n",
       "      <td>0.0</td>\n",
       "      <td>92</td>\n",
       "      <td>NaN</td>\n",
       "      <td>NaN</td>\n",
       "      <td>8</td>\n",
       "      <td>0.0</td>\n",
       "      <td>11/11/2020 03:14:03 PM</td>\n",
       "      <td>NaN</td>\n",
       "      <td>NaN</td>\n",
       "    </tr>\n",
       "    <tr>\n",
       "      <th>16169</th>\n",
       "      <td>11/10/2020</td>\n",
       "      <td>GU</td>\n",
       "      <td>5654</td>\n",
       "      <td>NaN</td>\n",
       "      <td>NaN</td>\n",
       "      <td>181</td>\n",
       "      <td>4.0</td>\n",
       "      <td>91</td>\n",
       "      <td>NaN</td>\n",
       "      <td>NaN</td>\n",
       "      <td>1</td>\n",
       "      <td>0.0</td>\n",
       "      <td>11/11/2020 03:14:03 PM</td>\n",
       "      <td>Not agree</td>\n",
       "      <td>Not agree</td>\n",
       "    </tr>\n",
       "    <tr>\n",
       "      <th>16463</th>\n",
       "      <td>11/10/2020</td>\n",
       "      <td>VT</td>\n",
       "      <td>2462</td>\n",
       "      <td>NaN</td>\n",
       "      <td>NaN</td>\n",
       "      <td>47</td>\n",
       "      <td>0.0</td>\n",
       "      <td>59</td>\n",
       "      <td>NaN</td>\n",
       "      <td>NaN</td>\n",
       "      <td>0</td>\n",
       "      <td>0.0</td>\n",
       "      <td>11/11/2020 03:14:03 PM</td>\n",
       "      <td>Not agree</td>\n",
       "      <td>Not agree</td>\n",
       "    </tr>\n",
       "    <tr>\n",
       "      <th>16757</th>\n",
       "      <td>11/10/2020</td>\n",
       "      <td>VI</td>\n",
       "      <td>1413</td>\n",
       "      <td>NaN</td>\n",
       "      <td>NaN</td>\n",
       "      <td>3</td>\n",
       "      <td>0.0</td>\n",
       "      <td>23</td>\n",
       "      <td>NaN</td>\n",
       "      <td>NaN</td>\n",
       "      <td>0</td>\n",
       "      <td>0.0</td>\n",
       "      <td>11/11/2020 03:14:03 PM</td>\n",
       "      <td>NaN</td>\n",
       "      <td>NaN</td>\n",
       "    </tr>\n",
       "    <tr>\n",
       "      <th>17051</th>\n",
       "      <td>11/10/2020</td>\n",
       "      <td>MP</td>\n",
       "      <td>100</td>\n",
       "      <td>100.0</td>\n",
       "      <td>0.0</td>\n",
       "      <td>0</td>\n",
       "      <td>0.0</td>\n",
       "      <td>2</td>\n",
       "      <td>2.0</td>\n",
       "      <td>0.0</td>\n",
       "      <td>0</td>\n",
       "      <td>0.0</td>\n",
       "      <td>11/11/2020 03:14:03 PM</td>\n",
       "      <td>Agree</td>\n",
       "      <td>Agree</td>\n",
       "    </tr>\n",
       "    <tr>\n",
       "      <th>17345</th>\n",
       "      <td>11/10/2020</td>\n",
       "      <td>FSM</td>\n",
       "      <td>0</td>\n",
       "      <td>0.0</td>\n",
       "      <td>0.0</td>\n",
       "      <td>0</td>\n",
       "      <td>0.0</td>\n",
       "      <td>0</td>\n",
       "      <td>0.0</td>\n",
       "      <td>0.0</td>\n",
       "      <td>0</td>\n",
       "      <td>0.0</td>\n",
       "      <td>11/11/2020 03:14:03 PM</td>\n",
       "      <td>Agree</td>\n",
       "      <td>Agree</td>\n",
       "    </tr>\n",
       "    <tr>\n",
       "      <th>17639</th>\n",
       "      <td>11/10/2020</td>\n",
       "      <td>PW</td>\n",
       "      <td>0</td>\n",
       "      <td>NaN</td>\n",
       "      <td>NaN</td>\n",
       "      <td>0</td>\n",
       "      <td>0.0</td>\n",
       "      <td>0</td>\n",
       "      <td>NaN</td>\n",
       "      <td>NaN</td>\n",
       "      <td>0</td>\n",
       "      <td>0.0</td>\n",
       "      <td>11/11/2020 03:14:03 PM</td>\n",
       "      <td>NaN</td>\n",
       "      <td>NaN</td>\n",
       "    </tr>\n",
       "  </tbody>\n",
       "</table>\n",
       "</div>"
      ],
      "text/plain": [
       "      submission_date state  tot_cases  conf_cases  prob_cases  new_case  \\\n",
       "293        11/10/2020    CO     138427    130668.0      7759.0      3890   \n",
       "587        11/10/2020    FL     840652         NaN         NaN      4282   \n",
       "881        11/10/2020    AZ     263133    256317.0      6816.0      3434   \n",
       "1175       11/10/2020    SC     187738    177515.0     10223.0      1347   \n",
       "1469       11/10/2020    CT      82987     77708.0      5279.0      1524   \n",
       "1763       11/10/2020    NE      87733         NaN         NaN      2182   \n",
       "2057       11/10/2020    KY     124646    103849.0     20797.0      2079   \n",
       "2351       11/10/2020    WY      19242     16442.0      2800.0      1232   \n",
       "2645       11/10/2020    IA     161803         NaN         NaN      3899   \n",
       "2939       11/10/2020    NM      57547         NaN         NaN      1258   \n",
       "3233       11/10/2020    ND      57373         NaN         NaN      1031   \n",
       "3527       11/10/2020    WA     120011         NaN         NaN      1441   \n",
       "3821       11/10/2020   RMI          1         1.0         0.0         0   \n",
       "4115       11/10/2020    TN     289749    271405.0     18344.0      1979   \n",
       "4409       11/10/2020    AS          3         NaN         NaN         0   \n",
       "4703       11/10/2020    MA     179872    169976.0      9896.0      2047   \n",
       "4997       11/10/2020    PA     238657    225150.0     13507.0      4361   \n",
       "5291       11/10/2020   NYC     277249    264812.0     12437.0      1160   \n",
       "5585       11/10/2020    OH     261482    247260.0     14222.0      6508   \n",
       "5879       11/10/2020    AL     206567    174987.0     31580.0      1710   \n",
       "6173       11/10/2020    VA     196507    179687.0     16820.0      1594   \n",
       "6467       11/10/2020    MI     245252    223277.0     21975.0      6944   \n",
       "6761       11/10/2020    MS     129394    109679.0     19715.0      1256   \n",
       "7055       11/10/2020    IL     511183    511183.0         0.0     12623   \n",
       "7349       11/10/2020    WI     293812    278843.0     14969.0      7432   \n",
       "7643       11/10/2020    PR      39120     38799.0       321.0       264   \n",
       "7937       11/10/2020    OK     150578    127861.0     22717.0      2175   \n",
       "8231       11/10/2020    NC     297442    283895.0     13547.0      2582   \n",
       "8525       11/10/2020    TX     974230         NaN         NaN     11211   \n",
       "8819       11/10/2020    CA     977218         NaN         NaN      5367   \n",
       "9113       11/10/2020    NJ     260430         NaN         NaN      3777   \n",
       "9407       11/10/2020    LA     194702         NaN         NaN      1330   \n",
       "9701       11/10/2020    ID      75428     64875.0     10553.0      1201   \n",
       "9995       11/10/2020    NV     112304         NaN         NaN      1322   \n",
       "10289      11/10/2020    GA     376054         NaN         NaN      1873   \n",
       "10583      11/10/2020    IN     219338         NaN         NaN      4829   \n",
       "10877      11/10/2020    MD     158423         NaN         NaN      1714   \n",
       "11171      11/10/2020    NY     262562         NaN         NaN      2757   \n",
       "11465      11/10/2020    AR     124235         NaN         NaN      1424   \n",
       "11759      11/10/2020    MN     189681         NaN         NaN      4893   \n",
       "12053      11/10/2020    OR      51909     50189.0      1720.0       754   \n",
       "12347      11/10/2020    UT     137385    137385.0         0.0      2517   \n",
       "12641      11/10/2020    WV      29316     26311.0      3005.0       511   \n",
       "12935      11/10/2020    MO     216697         NaN         NaN      4256   \n",
       "13229      11/10/2020    DE      27342     26121.0      1221.0       230   \n",
       "13523      11/10/2020    SD      57334         NaN         NaN      1023   \n",
       "13817      11/10/2020    RI      38798         NaN         NaN       789   \n",
       "14111      11/10/2020    KS     103553     92562.0     10991.0         0   \n",
       "14405      11/10/2020    ME       8202      7300.0       902.0       142   \n",
       "14699      11/10/2020    NH      12919         NaN         NaN       220   \n",
       "14993      11/10/2020    DC      18173         NaN         NaN        86   \n",
       "15287      11/10/2020    MT      41151     41151.0         0.0      1098   \n",
       "15581      11/10/2020    HI      15961         NaN         NaN        69   \n",
       "15875      11/10/2020    AK      19712         NaN         NaN       525   \n",
       "16169      11/10/2020    GU       5654         NaN         NaN       181   \n",
       "16463      11/10/2020    VT       2462         NaN         NaN        47   \n",
       "16757      11/10/2020    VI       1413         NaN         NaN         3   \n",
       "17051      11/10/2020    MP        100       100.0         0.0         0   \n",
       "17345      11/10/2020   FSM          0         0.0         0.0         0   \n",
       "17639      11/10/2020    PW          0         NaN         NaN         0   \n",
       "\n",
       "       pnew_case  tot_death  conf_death  prob_death  new_death  pnew_death  \\\n",
       "293         59.0       2427      2024.0       403.0         19         2.0   \n",
       "587       1017.0      17248         NaN         NaN         69         4.0   \n",
       "881        118.0       6192      5757.0       435.0         28        16.0   \n",
       "1175       205.0       4062      3795.0       267.0         21         4.0   \n",
       "1469        72.0       4707      3785.0       922.0          9         3.0   \n",
       "1763         0.0        730         NaN         NaN         20         0.0   \n",
       "2057       603.0       1590      1562.0        28.0         14         1.0   \n",
       "2351       101.0        127       127.0         0.0         13         0.0   \n",
       "2645      1154.0       1874         NaN         NaN         24         0.0   \n",
       "2939         0.0       1144         NaN         NaN         14         0.0   \n",
       "3233         0.0        686         NaN         NaN         12         0.0   \n",
       "3527         0.0       2482         NaN         NaN         22         0.0   \n",
       "3821         0.0          0         0.0         0.0          0         0.0   \n",
       "4115       321.0       3672      3440.0       232.0         62        10.0   \n",
       "4409         0.0          0         NaN         NaN          0         0.0   \n",
       "4703         0.0      10165      9957.0       208.0         21         0.0   \n",
       "4997       648.0       9086         NaN         NaN         62        31.0   \n",
       "5291         5.0      24096     19427.0      4669.0          9         1.0   \n",
       "5585       343.0       5547      5212.0       335.0         23         4.0   \n",
       "5879       577.0       3120      2890.0       230.0         36        11.0   \n",
       "6173       340.0       3741      3474.0       267.0         15         1.0   \n",
       "6467       471.0       8094      7724.0       370.0         86         2.0   \n",
       "6761       664.0       3497      3108.0       389.0         17         4.0   \n",
       "7055         0.0      10645     10289.0       356.0         82         3.0   \n",
       "7349       359.0       2482      2395.0        87.0         72         6.0   \n",
       "7643       146.0        901       693.0       208.0         12         1.0   \n",
       "7937       464.0       1496      1450.0        46.0         31         2.0   \n",
       "8231       366.0       4660      4562.0        98.0         45         4.0   \n",
       "8525         0.0      18863         NaN         NaN         94         0.0   \n",
       "8819         0.0      18001         NaN         NaN         24         0.0   \n",
       "9113         0.0      16461     14661.0      1800.0         21         0.0   \n",
       "9407         0.0       6058      5829.0       229.0         10         0.0   \n",
       "9701       237.0        714       660.0        54.0         16         2.0   \n",
       "9995         0.0       1859         NaN         NaN          7         0.0   \n",
       "10289        0.0       8730         NaN         NaN        507       466.0   \n",
       "10583        0.0       4731      4481.0       250.0         67         4.0   \n",
       "10877        0.0       4249      4100.0       149.0         16         0.0   \n",
       "11171        0.0       9399         NaN         NaN         28         0.0   \n",
       "11465      449.0       2112         NaN         NaN          4         0.0   \n",
       "11759       63.0       2752      2668.0        84.0         23         0.0   \n",
       "12053        0.0        737       722.0        15.0          3         0.0   \n",
       "12347        0.0        672       663.0         9.0         11        -1.0   \n",
       "12641      210.0        546         NaN         NaN         16         5.0   \n",
       "12935        0.0       3299         NaN         NaN        146         0.0   \n",
       "13229        7.0        724       637.0        87.0          2         0.0   \n",
       "13523        6.0        540       500.0        40.0          3        -1.0   \n",
       "13817        0.0       1237         NaN         NaN          4         0.0   \n",
       "14111        0.0       1181         NaN         NaN          0         0.0   \n",
       "14405       15.0        158         NaN         NaN          2         0.0   \n",
       "14699    -1266.0        489         NaN         NaN          0        -6.0   \n",
       "14993        0.0        657         NaN         NaN          2         0.0   \n",
       "15287        0.0        462       462.0         0.0          5         0.0   \n",
       "15581        0.0        221         NaN         NaN          1         0.0   \n",
       "15875        0.0         92         NaN         NaN          8         0.0   \n",
       "16169        4.0         91         NaN         NaN          1         0.0   \n",
       "16463        0.0         59         NaN         NaN          0         0.0   \n",
       "16757        0.0         23         NaN         NaN          0         0.0   \n",
       "17051        0.0          2         2.0         0.0          0         0.0   \n",
       "17345        0.0          0         0.0         0.0          0         0.0   \n",
       "17639        0.0          0         NaN         NaN          0         0.0   \n",
       "\n",
       "                   created_at consent_cases consent_deaths  \n",
       "293    11/11/2020 03:14:03 PM         Agree          Agree  \n",
       "587    11/11/2020 03:14:03 PM     Not agree      Not agree  \n",
       "881    11/11/2020 03:14:03 PM         Agree          Agree  \n",
       "1175   11/11/2020 03:14:03 PM         Agree          Agree  \n",
       "1469   11/11/2020 03:14:03 PM         Agree          Agree  \n",
       "1763   11/11/2020 03:14:03 PM     Not agree      Not agree  \n",
       "2057   11/11/2020 03:14:03 PM         Agree          Agree  \n",
       "2351   11/11/2020 03:14:03 PM         Agree          Agree  \n",
       "2645   11/11/2020 03:14:03 PM     Not agree      Not agree  \n",
       "2939   11/11/2020 03:14:03 PM           NaN      Not agree  \n",
       "3233   11/11/2020 03:14:03 PM     Not agree      Not agree  \n",
       "3527   11/11/2020 03:14:03 PM           NaN            NaN  \n",
       "3821   11/11/2020 03:14:03 PM         Agree          Agree  \n",
       "4115   11/11/2020 03:14:03 PM         Agree          Agree  \n",
       "4409   11/11/2020 03:14:03 PM           NaN            NaN  \n",
       "4703   11/11/2020 03:14:03 PM         Agree          Agree  \n",
       "4997   11/11/2020 03:14:03 PM         Agree      Not agree  \n",
       "5291   11/11/2020 03:14:03 PM         Agree          Agree  \n",
       "5585   11/11/2020 03:14:03 PM         Agree          Agree  \n",
       "5879   11/11/2020 03:14:03 PM         Agree          Agree  \n",
       "6173   11/11/2020 03:14:03 PM         Agree          Agree  \n",
       "6467   11/11/2020 03:14:03 PM         Agree          Agree  \n",
       "6761   11/11/2020 03:14:03 PM         Agree          Agree  \n",
       "7055   11/11/2020 03:14:03 PM         Agree          Agree  \n",
       "7349   11/11/2020 03:14:03 PM         Agree          Agree  \n",
       "7643   11/11/2020 03:14:03 PM         Agree          Agree  \n",
       "7937   11/11/2020 03:14:03 PM         Agree          Agree  \n",
       "8231   11/11/2020 03:14:03 PM         Agree          Agree  \n",
       "8525   11/11/2020 03:14:03 PM     Not agree      Not agree  \n",
       "8819   11/11/2020 03:14:03 PM     Not agree      Not agree  \n",
       "9113   11/11/2020 03:14:03 PM     Not agree          Agree  \n",
       "9407   11/11/2020 03:14:03 PM     Not agree          Agree  \n",
       "9701   11/11/2020 03:14:03 PM         Agree          Agree  \n",
       "9995   11/11/2020 03:14:03 PM           NaN            NaN  \n",
       "10289  11/11/2020 03:14:03 PM     Not agree      Not agree  \n",
       "10583  11/11/2020 03:14:03 PM     Not agree          Agree  \n",
       "10877  11/11/2020 03:14:03 PM           NaN          Agree  \n",
       "11171  11/11/2020 03:14:03 PM     Not agree      Not agree  \n",
       "11465  11/11/2020 03:14:03 PM     Not agree      Not agree  \n",
       "11759  11/11/2020 03:14:03 PM           NaN          Agree  \n",
       "12053  11/11/2020 03:14:03 PM         Agree          Agree  \n",
       "12347  11/11/2020 03:14:03 PM         Agree          Agree  \n",
       "12641  11/11/2020 03:14:03 PM         Agree      Not agree  \n",
       "12935  11/11/2020 03:14:03 PM     Not agree      Not agree  \n",
       "13229  11/11/2020 03:14:03 PM         Agree          Agree  \n",
       "13523  11/11/2020 03:14:03 PM           NaN          Agree  \n",
       "13817  11/11/2020 03:14:03 PM     Not agree            NaN  \n",
       "14111  11/11/2020 03:14:03 PM         Agree            NaN  \n",
       "14405  11/11/2020 03:14:03 PM         Agree            NaN  \n",
       "14699  11/11/2020 03:14:03 PM     Not agree      Not agree  \n",
       "14993  11/11/2020 03:14:03 PM           NaN            NaN  \n",
       "15287  11/11/2020 03:14:03 PM         Agree          Agree  \n",
       "15581  11/11/2020 03:14:03 PM     Not agree      Not agree  \n",
       "15875  11/11/2020 03:14:03 PM           NaN            NaN  \n",
       "16169  11/11/2020 03:14:03 PM     Not agree      Not agree  \n",
       "16463  11/11/2020 03:14:03 PM     Not agree      Not agree  \n",
       "16757  11/11/2020 03:14:03 PM           NaN            NaN  \n",
       "17051  11/11/2020 03:14:03 PM         Agree          Agree  \n",
       "17345  11/11/2020 03:14:03 PM         Agree          Agree  \n",
       "17639  11/11/2020 03:14:03 PM           NaN            NaN  "
      ]
     },
     "execution_count": 3,
     "metadata": {},
     "output_type": "execute_result"
    }
   ],
   "source": [
    "data = data[(data.submission_date =='11/10/2020')]\n",
    "data"
   ]
  },
  {
   "cell_type": "code",
   "execution_count": 4,
   "metadata": {},
   "outputs": [],
   "source": [
    "source = ColumnDataSource(data)\n"
   ]
  },
  {
   "cell_type": "code",
   "execution_count": 5,
   "metadata": {},
   "outputs": [],
   "source": [
    "plot = figure(title='Covid Data', x_axis_label='total_death', y_axis_label='total_cases')\n",
    "plot.circle(x='tot_death', y='tot_cases', source=source)\n",
    "\n",
    "curdoc().add_root(plot)\n",
    "\n"
   ]
  },
  {
   "cell_type": "code",
   "execution_count": 6,
   "metadata": {},
   "outputs": [],
   "source": [
    "hover = HoverTool(tooltips=[('state', '@state')])\n",
    "\n",
    "# Add the HoverTool to the plot\n",
    "plot.add_tools(hover)\n",
    "# show(plot)\n",
    "\n",
    "\n"
   ]
  },
  {
   "cell_type": "code",
   "execution_count": 31,
   "metadata": {},
   "outputs": [],
   "source": [
    "# Trying to add a dropdown menu, but it's actually using the same data,\n",
    "# the plot won't change.\n",
    "def update_plot(attr, old, new):\n",
    "    if new == '2016': \n",
    "        source.data = {\n",
    "            'total_death' : total_death,\n",
    "            'total_cases' : total_cases\n",
    "        }\n",
    "    # Else, update 'y' to population\n",
    "    else:\n",
    "        source.data = {\n",
    "            'total_death' : total_death,\n",
    "            'total_cases' : total_cases\n",
    "        }"
   ]
  },
  {
   "cell_type": "code",
   "execution_count": 32,
   "metadata": {},
   "outputs": [],
   "source": [
    "yr_select = Select(\n",
    "    options=['2016', '2020'],\n",
    "    value='2016',\n",
    "    title='Election Year'\n",
    ")\n",
    "yr_select.on_change('value', update_plot)\n",
    "layout = row(yr_select, plot)\n",
    "curdoc().add_root(layout)"
   ]
  },
  {
   "cell_type": "code",
   "execution_count": 33,
   "metadata": {},
   "outputs": [
    {
     "name": "stderr",
     "output_type": "stream",
     "text": [
      "WARNING:bokeh.embed.util:\n",
      "You are generating standalone HTML/JS output, but trying to use real Python\n",
      "callbacks (i.e. with on_change or on_event). This combination cannot work.\n",
      "\n",
      "Only JavaScript callbacks may be used with standalone output. For more\n",
      "information on JavaScript callbacks with Bokeh, see:\n",
      "\n",
      "    https://docs.bokeh.org/en/latest/docs/user_guide/interaction/callbacks.html\n",
      "\n",
      "Alternatively, to use real Python callbacks, a Bokeh server application may\n",
      "be used. For more information on building and running Bokeh applications, see:\n",
      "\n",
      "    https://docs.bokeh.org/en/latest/docs/user_guide/server.html\n",
      "\n"
     ]
    }
   ],
   "source": [
    "show(layout)"
   ]
  },
  {
   "cell_type": "code",
   "execution_count": 20,
   "metadata": {},
   "outputs": [],
   "source": [
    "import plotly.graph_objects as go\n",
    "import plotly.express as px"
   ]
  },
  {
   "cell_type": "code",
   "execution_count": 26,
   "metadata": {},
   "outputs": [],
   "source": [
    "f = px.scatter(x=data[\"tot_death\"], y=data[\"tot_cases\"], color=data[\"state\"],\n",
    "                                labels=dict(x=\"total_death\", y=\"total_cases\", color = \"state\"))"
   ]
  },
  {
   "cell_type": "code",
   "execution_count": 27,
   "metadata": {},
   "outputs": [
    {
     "data": {
      "application/vnd.plotly.v1+json": {
       "config": {
        "plotlyServerURL": "https://plot.ly"
       },
       "data": [
        {
         "hovertemplate": "state=CO<br>total_death=%{x}<br>total_cases=%{y}<extra></extra>",
         "legendgroup": "CO",
         "marker": {
          "color": "#636efa",
          "symbol": "circle"
         },
         "mode": "markers",
         "name": "CO",
         "orientation": "v",
         "showlegend": true,
         "type": "scatter",
         "x": [
          2427
         ],
         "xaxis": "x",
         "y": [
          138427
         ],
         "yaxis": "y"
        },
        {
         "hovertemplate": "state=FL<br>total_death=%{x}<br>total_cases=%{y}<extra></extra>",
         "legendgroup": "FL",
         "marker": {
          "color": "#EF553B",
          "symbol": "circle"
         },
         "mode": "markers",
         "name": "FL",
         "orientation": "v",
         "showlegend": true,
         "type": "scatter",
         "x": [
          17248
         ],
         "xaxis": "x",
         "y": [
          840652
         ],
         "yaxis": "y"
        },
        {
         "hovertemplate": "state=AZ<br>total_death=%{x}<br>total_cases=%{y}<extra></extra>",
         "legendgroup": "AZ",
         "marker": {
          "color": "#00cc96",
          "symbol": "circle"
         },
         "mode": "markers",
         "name": "AZ",
         "orientation": "v",
         "showlegend": true,
         "type": "scatter",
         "x": [
          6192
         ],
         "xaxis": "x",
         "y": [
          263133
         ],
         "yaxis": "y"
        },
        {
         "hovertemplate": "state=SC<br>total_death=%{x}<br>total_cases=%{y}<extra></extra>",
         "legendgroup": "SC",
         "marker": {
          "color": "#ab63fa",
          "symbol": "circle"
         },
         "mode": "markers",
         "name": "SC",
         "orientation": "v",
         "showlegend": true,
         "type": "scatter",
         "x": [
          4062
         ],
         "xaxis": "x",
         "y": [
          187738
         ],
         "yaxis": "y"
        },
        {
         "hovertemplate": "state=CT<br>total_death=%{x}<br>total_cases=%{y}<extra></extra>",
         "legendgroup": "CT",
         "marker": {
          "color": "#FFA15A",
          "symbol": "circle"
         },
         "mode": "markers",
         "name": "CT",
         "orientation": "v",
         "showlegend": true,
         "type": "scatter",
         "x": [
          4707
         ],
         "xaxis": "x",
         "y": [
          82987
         ],
         "yaxis": "y"
        },
        {
         "hovertemplate": "state=NE<br>total_death=%{x}<br>total_cases=%{y}<extra></extra>",
         "legendgroup": "NE",
         "marker": {
          "color": "#19d3f3",
          "symbol": "circle"
         },
         "mode": "markers",
         "name": "NE",
         "orientation": "v",
         "showlegend": true,
         "type": "scatter",
         "x": [
          730
         ],
         "xaxis": "x",
         "y": [
          87733
         ],
         "yaxis": "y"
        },
        {
         "hovertemplate": "state=KY<br>total_death=%{x}<br>total_cases=%{y}<extra></extra>",
         "legendgroup": "KY",
         "marker": {
          "color": "#FF6692",
          "symbol": "circle"
         },
         "mode": "markers",
         "name": "KY",
         "orientation": "v",
         "showlegend": true,
         "type": "scatter",
         "x": [
          1590
         ],
         "xaxis": "x",
         "y": [
          124646
         ],
         "yaxis": "y"
        },
        {
         "hovertemplate": "state=WY<br>total_death=%{x}<br>total_cases=%{y}<extra></extra>",
         "legendgroup": "WY",
         "marker": {
          "color": "#B6E880",
          "symbol": "circle"
         },
         "mode": "markers",
         "name": "WY",
         "orientation": "v",
         "showlegend": true,
         "type": "scatter",
         "x": [
          127
         ],
         "xaxis": "x",
         "y": [
          19242
         ],
         "yaxis": "y"
        },
        {
         "hovertemplate": "state=IA<br>total_death=%{x}<br>total_cases=%{y}<extra></extra>",
         "legendgroup": "IA",
         "marker": {
          "color": "#FF97FF",
          "symbol": "circle"
         },
         "mode": "markers",
         "name": "IA",
         "orientation": "v",
         "showlegend": true,
         "type": "scatter",
         "x": [
          1874
         ],
         "xaxis": "x",
         "y": [
          161803
         ],
         "yaxis": "y"
        },
        {
         "hovertemplate": "state=NM<br>total_death=%{x}<br>total_cases=%{y}<extra></extra>",
         "legendgroup": "NM",
         "marker": {
          "color": "#FECB52",
          "symbol": "circle"
         },
         "mode": "markers",
         "name": "NM",
         "orientation": "v",
         "showlegend": true,
         "type": "scatter",
         "x": [
          1144
         ],
         "xaxis": "x",
         "y": [
          57547
         ],
         "yaxis": "y"
        },
        {
         "hovertemplate": "state=ND<br>total_death=%{x}<br>total_cases=%{y}<extra></extra>",
         "legendgroup": "ND",
         "marker": {
          "color": "#636efa",
          "symbol": "circle"
         },
         "mode": "markers",
         "name": "ND",
         "orientation": "v",
         "showlegend": true,
         "type": "scatter",
         "x": [
          686
         ],
         "xaxis": "x",
         "y": [
          57373
         ],
         "yaxis": "y"
        },
        {
         "hovertemplate": "state=WA<br>total_death=%{x}<br>total_cases=%{y}<extra></extra>",
         "legendgroup": "WA",
         "marker": {
          "color": "#EF553B",
          "symbol": "circle"
         },
         "mode": "markers",
         "name": "WA",
         "orientation": "v",
         "showlegend": true,
         "type": "scatter",
         "x": [
          2482
         ],
         "xaxis": "x",
         "y": [
          120011
         ],
         "yaxis": "y"
        },
        {
         "hovertemplate": "state=RMI<br>total_death=%{x}<br>total_cases=%{y}<extra></extra>",
         "legendgroup": "RMI",
         "marker": {
          "color": "#00cc96",
          "symbol": "circle"
         },
         "mode": "markers",
         "name": "RMI",
         "orientation": "v",
         "showlegend": true,
         "type": "scatter",
         "x": [
          0
         ],
         "xaxis": "x",
         "y": [
          1
         ],
         "yaxis": "y"
        },
        {
         "hovertemplate": "state=TN<br>total_death=%{x}<br>total_cases=%{y}<extra></extra>",
         "legendgroup": "TN",
         "marker": {
          "color": "#ab63fa",
          "symbol": "circle"
         },
         "mode": "markers",
         "name": "TN",
         "orientation": "v",
         "showlegend": true,
         "type": "scatter",
         "x": [
          3672
         ],
         "xaxis": "x",
         "y": [
          289749
         ],
         "yaxis": "y"
        },
        {
         "hovertemplate": "state=AS<br>total_death=%{x}<br>total_cases=%{y}<extra></extra>",
         "legendgroup": "AS",
         "marker": {
          "color": "#FFA15A",
          "symbol": "circle"
         },
         "mode": "markers",
         "name": "AS",
         "orientation": "v",
         "showlegend": true,
         "type": "scatter",
         "x": [
          0
         ],
         "xaxis": "x",
         "y": [
          3
         ],
         "yaxis": "y"
        },
        {
         "hovertemplate": "state=MA<br>total_death=%{x}<br>total_cases=%{y}<extra></extra>",
         "legendgroup": "MA",
         "marker": {
          "color": "#19d3f3",
          "symbol": "circle"
         },
         "mode": "markers",
         "name": "MA",
         "orientation": "v",
         "showlegend": true,
         "type": "scatter",
         "x": [
          10165
         ],
         "xaxis": "x",
         "y": [
          179872
         ],
         "yaxis": "y"
        },
        {
         "hovertemplate": "state=PA<br>total_death=%{x}<br>total_cases=%{y}<extra></extra>",
         "legendgroup": "PA",
         "marker": {
          "color": "#FF6692",
          "symbol": "circle"
         },
         "mode": "markers",
         "name": "PA",
         "orientation": "v",
         "showlegend": true,
         "type": "scatter",
         "x": [
          9086
         ],
         "xaxis": "x",
         "y": [
          238657
         ],
         "yaxis": "y"
        },
        {
         "hovertemplate": "state=NYC<br>total_death=%{x}<br>total_cases=%{y}<extra></extra>",
         "legendgroup": "NYC",
         "marker": {
          "color": "#B6E880",
          "symbol": "circle"
         },
         "mode": "markers",
         "name": "NYC",
         "orientation": "v",
         "showlegend": true,
         "type": "scatter",
         "x": [
          24096
         ],
         "xaxis": "x",
         "y": [
          277249
         ],
         "yaxis": "y"
        },
        {
         "hovertemplate": "state=OH<br>total_death=%{x}<br>total_cases=%{y}<extra></extra>",
         "legendgroup": "OH",
         "marker": {
          "color": "#FF97FF",
          "symbol": "circle"
         },
         "mode": "markers",
         "name": "OH",
         "orientation": "v",
         "showlegend": true,
         "type": "scatter",
         "x": [
          5547
         ],
         "xaxis": "x",
         "y": [
          261482
         ],
         "yaxis": "y"
        },
        {
         "hovertemplate": "state=AL<br>total_death=%{x}<br>total_cases=%{y}<extra></extra>",
         "legendgroup": "AL",
         "marker": {
          "color": "#FECB52",
          "symbol": "circle"
         },
         "mode": "markers",
         "name": "AL",
         "orientation": "v",
         "showlegend": true,
         "type": "scatter",
         "x": [
          3120
         ],
         "xaxis": "x",
         "y": [
          206567
         ],
         "yaxis": "y"
        },
        {
         "hovertemplate": "state=VA<br>total_death=%{x}<br>total_cases=%{y}<extra></extra>",
         "legendgroup": "VA",
         "marker": {
          "color": "#636efa",
          "symbol": "circle"
         },
         "mode": "markers",
         "name": "VA",
         "orientation": "v",
         "showlegend": true,
         "type": "scatter",
         "x": [
          3741
         ],
         "xaxis": "x",
         "y": [
          196507
         ],
         "yaxis": "y"
        },
        {
         "hovertemplate": "state=MI<br>total_death=%{x}<br>total_cases=%{y}<extra></extra>",
         "legendgroup": "MI",
         "marker": {
          "color": "#EF553B",
          "symbol": "circle"
         },
         "mode": "markers",
         "name": "MI",
         "orientation": "v",
         "showlegend": true,
         "type": "scatter",
         "x": [
          8094
         ],
         "xaxis": "x",
         "y": [
          245252
         ],
         "yaxis": "y"
        },
        {
         "hovertemplate": "state=MS<br>total_death=%{x}<br>total_cases=%{y}<extra></extra>",
         "legendgroup": "MS",
         "marker": {
          "color": "#00cc96",
          "symbol": "circle"
         },
         "mode": "markers",
         "name": "MS",
         "orientation": "v",
         "showlegend": true,
         "type": "scatter",
         "x": [
          3497
         ],
         "xaxis": "x",
         "y": [
          129394
         ],
         "yaxis": "y"
        },
        {
         "hovertemplate": "state=IL<br>total_death=%{x}<br>total_cases=%{y}<extra></extra>",
         "legendgroup": "IL",
         "marker": {
          "color": "#ab63fa",
          "symbol": "circle"
         },
         "mode": "markers",
         "name": "IL",
         "orientation": "v",
         "showlegend": true,
         "type": "scatter",
         "x": [
          10645
         ],
         "xaxis": "x",
         "y": [
          511183
         ],
         "yaxis": "y"
        },
        {
         "hovertemplate": "state=WI<br>total_death=%{x}<br>total_cases=%{y}<extra></extra>",
         "legendgroup": "WI",
         "marker": {
          "color": "#FFA15A",
          "symbol": "circle"
         },
         "mode": "markers",
         "name": "WI",
         "orientation": "v",
         "showlegend": true,
         "type": "scatter",
         "x": [
          2482
         ],
         "xaxis": "x",
         "y": [
          293812
         ],
         "yaxis": "y"
        },
        {
         "hovertemplate": "state=PR<br>total_death=%{x}<br>total_cases=%{y}<extra></extra>",
         "legendgroup": "PR",
         "marker": {
          "color": "#19d3f3",
          "symbol": "circle"
         },
         "mode": "markers",
         "name": "PR",
         "orientation": "v",
         "showlegend": true,
         "type": "scatter",
         "x": [
          901
         ],
         "xaxis": "x",
         "y": [
          39120
         ],
         "yaxis": "y"
        },
        {
         "hovertemplate": "state=OK<br>total_death=%{x}<br>total_cases=%{y}<extra></extra>",
         "legendgroup": "OK",
         "marker": {
          "color": "#FF6692",
          "symbol": "circle"
         },
         "mode": "markers",
         "name": "OK",
         "orientation": "v",
         "showlegend": true,
         "type": "scatter",
         "x": [
          1496
         ],
         "xaxis": "x",
         "y": [
          150578
         ],
         "yaxis": "y"
        },
        {
         "hovertemplate": "state=NC<br>total_death=%{x}<br>total_cases=%{y}<extra></extra>",
         "legendgroup": "NC",
         "marker": {
          "color": "#B6E880",
          "symbol": "circle"
         },
         "mode": "markers",
         "name": "NC",
         "orientation": "v",
         "showlegend": true,
         "type": "scatter",
         "x": [
          4660
         ],
         "xaxis": "x",
         "y": [
          297442
         ],
         "yaxis": "y"
        },
        {
         "hovertemplate": "state=TX<br>total_death=%{x}<br>total_cases=%{y}<extra></extra>",
         "legendgroup": "TX",
         "marker": {
          "color": "#FF97FF",
          "symbol": "circle"
         },
         "mode": "markers",
         "name": "TX",
         "orientation": "v",
         "showlegend": true,
         "type": "scatter",
         "x": [
          18863
         ],
         "xaxis": "x",
         "y": [
          974230
         ],
         "yaxis": "y"
        },
        {
         "hovertemplate": "state=CA<br>total_death=%{x}<br>total_cases=%{y}<extra></extra>",
         "legendgroup": "CA",
         "marker": {
          "color": "#FECB52",
          "symbol": "circle"
         },
         "mode": "markers",
         "name": "CA",
         "orientation": "v",
         "showlegend": true,
         "type": "scatter",
         "x": [
          18001
         ],
         "xaxis": "x",
         "y": [
          977218
         ],
         "yaxis": "y"
        },
        {
         "hovertemplate": "state=NJ<br>total_death=%{x}<br>total_cases=%{y}<extra></extra>",
         "legendgroup": "NJ",
         "marker": {
          "color": "#636efa",
          "symbol": "circle"
         },
         "mode": "markers",
         "name": "NJ",
         "orientation": "v",
         "showlegend": true,
         "type": "scatter",
         "x": [
          16461
         ],
         "xaxis": "x",
         "y": [
          260430
         ],
         "yaxis": "y"
        },
        {
         "hovertemplate": "state=LA<br>total_death=%{x}<br>total_cases=%{y}<extra></extra>",
         "legendgroup": "LA",
         "marker": {
          "color": "#EF553B",
          "symbol": "circle"
         },
         "mode": "markers",
         "name": "LA",
         "orientation": "v",
         "showlegend": true,
         "type": "scatter",
         "x": [
          6058
         ],
         "xaxis": "x",
         "y": [
          194702
         ],
         "yaxis": "y"
        },
        {
         "hovertemplate": "state=ID<br>total_death=%{x}<br>total_cases=%{y}<extra></extra>",
         "legendgroup": "ID",
         "marker": {
          "color": "#00cc96",
          "symbol": "circle"
         },
         "mode": "markers",
         "name": "ID",
         "orientation": "v",
         "showlegend": true,
         "type": "scatter",
         "x": [
          714
         ],
         "xaxis": "x",
         "y": [
          75428
         ],
         "yaxis": "y"
        },
        {
         "hovertemplate": "state=NV<br>total_death=%{x}<br>total_cases=%{y}<extra></extra>",
         "legendgroup": "NV",
         "marker": {
          "color": "#ab63fa",
          "symbol": "circle"
         },
         "mode": "markers",
         "name": "NV",
         "orientation": "v",
         "showlegend": true,
         "type": "scatter",
         "x": [
          1859
         ],
         "xaxis": "x",
         "y": [
          112304
         ],
         "yaxis": "y"
        },
        {
         "hovertemplate": "state=GA<br>total_death=%{x}<br>total_cases=%{y}<extra></extra>",
         "legendgroup": "GA",
         "marker": {
          "color": "#FFA15A",
          "symbol": "circle"
         },
         "mode": "markers",
         "name": "GA",
         "orientation": "v",
         "showlegend": true,
         "type": "scatter",
         "x": [
          8730
         ],
         "xaxis": "x",
         "y": [
          376054
         ],
         "yaxis": "y"
        },
        {
         "hovertemplate": "state=IN<br>total_death=%{x}<br>total_cases=%{y}<extra></extra>",
         "legendgroup": "IN",
         "marker": {
          "color": "#19d3f3",
          "symbol": "circle"
         },
         "mode": "markers",
         "name": "IN",
         "orientation": "v",
         "showlegend": true,
         "type": "scatter",
         "x": [
          4731
         ],
         "xaxis": "x",
         "y": [
          219338
         ],
         "yaxis": "y"
        },
        {
         "hovertemplate": "state=MD<br>total_death=%{x}<br>total_cases=%{y}<extra></extra>",
         "legendgroup": "MD",
         "marker": {
          "color": "#FF6692",
          "symbol": "circle"
         },
         "mode": "markers",
         "name": "MD",
         "orientation": "v",
         "showlegend": true,
         "type": "scatter",
         "x": [
          4249
         ],
         "xaxis": "x",
         "y": [
          158423
         ],
         "yaxis": "y"
        },
        {
         "hovertemplate": "state=NY<br>total_death=%{x}<br>total_cases=%{y}<extra></extra>",
         "legendgroup": "NY",
         "marker": {
          "color": "#B6E880",
          "symbol": "circle"
         },
         "mode": "markers",
         "name": "NY",
         "orientation": "v",
         "showlegend": true,
         "type": "scatter",
         "x": [
          9399
         ],
         "xaxis": "x",
         "y": [
          262562
         ],
         "yaxis": "y"
        },
        {
         "hovertemplate": "state=AR<br>total_death=%{x}<br>total_cases=%{y}<extra></extra>",
         "legendgroup": "AR",
         "marker": {
          "color": "#FF97FF",
          "symbol": "circle"
         },
         "mode": "markers",
         "name": "AR",
         "orientation": "v",
         "showlegend": true,
         "type": "scatter",
         "x": [
          2112
         ],
         "xaxis": "x",
         "y": [
          124235
         ],
         "yaxis": "y"
        },
        {
         "hovertemplate": "state=MN<br>total_death=%{x}<br>total_cases=%{y}<extra></extra>",
         "legendgroup": "MN",
         "marker": {
          "color": "#FECB52",
          "symbol": "circle"
         },
         "mode": "markers",
         "name": "MN",
         "orientation": "v",
         "showlegend": true,
         "type": "scatter",
         "x": [
          2752
         ],
         "xaxis": "x",
         "y": [
          189681
         ],
         "yaxis": "y"
        },
        {
         "hovertemplate": "state=OR<br>total_death=%{x}<br>total_cases=%{y}<extra></extra>",
         "legendgroup": "OR",
         "marker": {
          "color": "#636efa",
          "symbol": "circle"
         },
         "mode": "markers",
         "name": "OR",
         "orientation": "v",
         "showlegend": true,
         "type": "scatter",
         "x": [
          737
         ],
         "xaxis": "x",
         "y": [
          51909
         ],
         "yaxis": "y"
        },
        {
         "hovertemplate": "state=UT<br>total_death=%{x}<br>total_cases=%{y}<extra></extra>",
         "legendgroup": "UT",
         "marker": {
          "color": "#EF553B",
          "symbol": "circle"
         },
         "mode": "markers",
         "name": "UT",
         "orientation": "v",
         "showlegend": true,
         "type": "scatter",
         "x": [
          672
         ],
         "xaxis": "x",
         "y": [
          137385
         ],
         "yaxis": "y"
        },
        {
         "hovertemplate": "state=WV<br>total_death=%{x}<br>total_cases=%{y}<extra></extra>",
         "legendgroup": "WV",
         "marker": {
          "color": "#00cc96",
          "symbol": "circle"
         },
         "mode": "markers",
         "name": "WV",
         "orientation": "v",
         "showlegend": true,
         "type": "scatter",
         "x": [
          546
         ],
         "xaxis": "x",
         "y": [
          29316
         ],
         "yaxis": "y"
        },
        {
         "hovertemplate": "state=MO<br>total_death=%{x}<br>total_cases=%{y}<extra></extra>",
         "legendgroup": "MO",
         "marker": {
          "color": "#ab63fa",
          "symbol": "circle"
         },
         "mode": "markers",
         "name": "MO",
         "orientation": "v",
         "showlegend": true,
         "type": "scatter",
         "x": [
          3299
         ],
         "xaxis": "x",
         "y": [
          216697
         ],
         "yaxis": "y"
        },
        {
         "hovertemplate": "state=DE<br>total_death=%{x}<br>total_cases=%{y}<extra></extra>",
         "legendgroup": "DE",
         "marker": {
          "color": "#FFA15A",
          "symbol": "circle"
         },
         "mode": "markers",
         "name": "DE",
         "orientation": "v",
         "showlegend": true,
         "type": "scatter",
         "x": [
          724
         ],
         "xaxis": "x",
         "y": [
          27342
         ],
         "yaxis": "y"
        },
        {
         "hovertemplate": "state=SD<br>total_death=%{x}<br>total_cases=%{y}<extra></extra>",
         "legendgroup": "SD",
         "marker": {
          "color": "#19d3f3",
          "symbol": "circle"
         },
         "mode": "markers",
         "name": "SD",
         "orientation": "v",
         "showlegend": true,
         "type": "scatter",
         "x": [
          540
         ],
         "xaxis": "x",
         "y": [
          57334
         ],
         "yaxis": "y"
        },
        {
         "hovertemplate": "state=RI<br>total_death=%{x}<br>total_cases=%{y}<extra></extra>",
         "legendgroup": "RI",
         "marker": {
          "color": "#FF6692",
          "symbol": "circle"
         },
         "mode": "markers",
         "name": "RI",
         "orientation": "v",
         "showlegend": true,
         "type": "scatter",
         "x": [
          1237
         ],
         "xaxis": "x",
         "y": [
          38798
         ],
         "yaxis": "y"
        },
        {
         "hovertemplate": "state=KS<br>total_death=%{x}<br>total_cases=%{y}<extra></extra>",
         "legendgroup": "KS",
         "marker": {
          "color": "#B6E880",
          "symbol": "circle"
         },
         "mode": "markers",
         "name": "KS",
         "orientation": "v",
         "showlegend": true,
         "type": "scatter",
         "x": [
          1181
         ],
         "xaxis": "x",
         "y": [
          103553
         ],
         "yaxis": "y"
        },
        {
         "hovertemplate": "state=ME<br>total_death=%{x}<br>total_cases=%{y}<extra></extra>",
         "legendgroup": "ME",
         "marker": {
          "color": "#FF97FF",
          "symbol": "circle"
         },
         "mode": "markers",
         "name": "ME",
         "orientation": "v",
         "showlegend": true,
         "type": "scatter",
         "x": [
          158
         ],
         "xaxis": "x",
         "y": [
          8202
         ],
         "yaxis": "y"
        },
        {
         "hovertemplate": "state=NH<br>total_death=%{x}<br>total_cases=%{y}<extra></extra>",
         "legendgroup": "NH",
         "marker": {
          "color": "#FECB52",
          "symbol": "circle"
         },
         "mode": "markers",
         "name": "NH",
         "orientation": "v",
         "showlegend": true,
         "type": "scatter",
         "x": [
          489
         ],
         "xaxis": "x",
         "y": [
          12919
         ],
         "yaxis": "y"
        },
        {
         "hovertemplate": "state=DC<br>total_death=%{x}<br>total_cases=%{y}<extra></extra>",
         "legendgroup": "DC",
         "marker": {
          "color": "#636efa",
          "symbol": "circle"
         },
         "mode": "markers",
         "name": "DC",
         "orientation": "v",
         "showlegend": true,
         "type": "scatter",
         "x": [
          657
         ],
         "xaxis": "x",
         "y": [
          18173
         ],
         "yaxis": "y"
        },
        {
         "hovertemplate": "state=MT<br>total_death=%{x}<br>total_cases=%{y}<extra></extra>",
         "legendgroup": "MT",
         "marker": {
          "color": "#EF553B",
          "symbol": "circle"
         },
         "mode": "markers",
         "name": "MT",
         "orientation": "v",
         "showlegend": true,
         "type": "scatter",
         "x": [
          462
         ],
         "xaxis": "x",
         "y": [
          41151
         ],
         "yaxis": "y"
        },
        {
         "hovertemplate": "state=HI<br>total_death=%{x}<br>total_cases=%{y}<extra></extra>",
         "legendgroup": "HI",
         "marker": {
          "color": "#00cc96",
          "symbol": "circle"
         },
         "mode": "markers",
         "name": "HI",
         "orientation": "v",
         "showlegend": true,
         "type": "scatter",
         "x": [
          221
         ],
         "xaxis": "x",
         "y": [
          15961
         ],
         "yaxis": "y"
        },
        {
         "hovertemplate": "state=AK<br>total_death=%{x}<br>total_cases=%{y}<extra></extra>",
         "legendgroup": "AK",
         "marker": {
          "color": "#ab63fa",
          "symbol": "circle"
         },
         "mode": "markers",
         "name": "AK",
         "orientation": "v",
         "showlegend": true,
         "type": "scatter",
         "x": [
          92
         ],
         "xaxis": "x",
         "y": [
          19712
         ],
         "yaxis": "y"
        },
        {
         "hovertemplate": "state=GU<br>total_death=%{x}<br>total_cases=%{y}<extra></extra>",
         "legendgroup": "GU",
         "marker": {
          "color": "#FFA15A",
          "symbol": "circle"
         },
         "mode": "markers",
         "name": "GU",
         "orientation": "v",
         "showlegend": true,
         "type": "scatter",
         "x": [
          91
         ],
         "xaxis": "x",
         "y": [
          5654
         ],
         "yaxis": "y"
        },
        {
         "hovertemplate": "state=VT<br>total_death=%{x}<br>total_cases=%{y}<extra></extra>",
         "legendgroup": "VT",
         "marker": {
          "color": "#19d3f3",
          "symbol": "circle"
         },
         "mode": "markers",
         "name": "VT",
         "orientation": "v",
         "showlegend": true,
         "type": "scatter",
         "x": [
          59
         ],
         "xaxis": "x",
         "y": [
          2462
         ],
         "yaxis": "y"
        },
        {
         "hovertemplate": "state=VI<br>total_death=%{x}<br>total_cases=%{y}<extra></extra>",
         "legendgroup": "VI",
         "marker": {
          "color": "#FF6692",
          "symbol": "circle"
         },
         "mode": "markers",
         "name": "VI",
         "orientation": "v",
         "showlegend": true,
         "type": "scatter",
         "x": [
          23
         ],
         "xaxis": "x",
         "y": [
          1413
         ],
         "yaxis": "y"
        },
        {
         "hovertemplate": "state=MP<br>total_death=%{x}<br>total_cases=%{y}<extra></extra>",
         "legendgroup": "MP",
         "marker": {
          "color": "#B6E880",
          "symbol": "circle"
         },
         "mode": "markers",
         "name": "MP",
         "orientation": "v",
         "showlegend": true,
         "type": "scatter",
         "x": [
          2
         ],
         "xaxis": "x",
         "y": [
          100
         ],
         "yaxis": "y"
        },
        {
         "hovertemplate": "state=FSM<br>total_death=%{x}<br>total_cases=%{y}<extra></extra>",
         "legendgroup": "FSM",
         "marker": {
          "color": "#FF97FF",
          "symbol": "circle"
         },
         "mode": "markers",
         "name": "FSM",
         "orientation": "v",
         "showlegend": true,
         "type": "scatter",
         "x": [
          0
         ],
         "xaxis": "x",
         "y": [
          0
         ],
         "yaxis": "y"
        },
        {
         "hovertemplate": "state=PW<br>total_death=%{x}<br>total_cases=%{y}<extra></extra>",
         "legendgroup": "PW",
         "marker": {
          "color": "#FECB52",
          "symbol": "circle"
         },
         "mode": "markers",
         "name": "PW",
         "orientation": "v",
         "showlegend": true,
         "type": "scatter",
         "x": [
          0
         ],
         "xaxis": "x",
         "y": [
          0
         ],
         "yaxis": "y"
        }
       ],
       "layout": {
        "hovermode": "closest",
        "legend": {
         "title": {
          "text": "state"
         },
         "tracegroupgap": 0
        },
        "margin": {
         "t": 60
        },
        "template": {
         "data": {
          "bar": [
           {
            "error_x": {
             "color": "#2a3f5f"
            },
            "error_y": {
             "color": "#2a3f5f"
            },
            "marker": {
             "line": {
              "color": "#E5ECF6",
              "width": 0.5
             }
            },
            "type": "bar"
           }
          ],
          "barpolar": [
           {
            "marker": {
             "line": {
              "color": "#E5ECF6",
              "width": 0.5
             }
            },
            "type": "barpolar"
           }
          ],
          "carpet": [
           {
            "aaxis": {
             "endlinecolor": "#2a3f5f",
             "gridcolor": "white",
             "linecolor": "white",
             "minorgridcolor": "white",
             "startlinecolor": "#2a3f5f"
            },
            "baxis": {
             "endlinecolor": "#2a3f5f",
             "gridcolor": "white",
             "linecolor": "white",
             "minorgridcolor": "white",
             "startlinecolor": "#2a3f5f"
            },
            "type": "carpet"
           }
          ],
          "choropleth": [
           {
            "colorbar": {
             "outlinewidth": 0,
             "ticks": ""
            },
            "type": "choropleth"
           }
          ],
          "contour": [
           {
            "colorbar": {
             "outlinewidth": 0,
             "ticks": ""
            },
            "colorscale": [
             [
              0,
              "#0d0887"
             ],
             [
              0.1111111111111111,
              "#46039f"
             ],
             [
              0.2222222222222222,
              "#7201a8"
             ],
             [
              0.3333333333333333,
              "#9c179e"
             ],
             [
              0.4444444444444444,
              "#bd3786"
             ],
             [
              0.5555555555555556,
              "#d8576b"
             ],
             [
              0.6666666666666666,
              "#ed7953"
             ],
             [
              0.7777777777777778,
              "#fb9f3a"
             ],
             [
              0.8888888888888888,
              "#fdca26"
             ],
             [
              1,
              "#f0f921"
             ]
            ],
            "type": "contour"
           }
          ],
          "contourcarpet": [
           {
            "colorbar": {
             "outlinewidth": 0,
             "ticks": ""
            },
            "type": "contourcarpet"
           }
          ],
          "heatmap": [
           {
            "colorbar": {
             "outlinewidth": 0,
             "ticks": ""
            },
            "colorscale": [
             [
              0,
              "#0d0887"
             ],
             [
              0.1111111111111111,
              "#46039f"
             ],
             [
              0.2222222222222222,
              "#7201a8"
             ],
             [
              0.3333333333333333,
              "#9c179e"
             ],
             [
              0.4444444444444444,
              "#bd3786"
             ],
             [
              0.5555555555555556,
              "#d8576b"
             ],
             [
              0.6666666666666666,
              "#ed7953"
             ],
             [
              0.7777777777777778,
              "#fb9f3a"
             ],
             [
              0.8888888888888888,
              "#fdca26"
             ],
             [
              1,
              "#f0f921"
             ]
            ],
            "type": "heatmap"
           }
          ],
          "heatmapgl": [
           {
            "colorbar": {
             "outlinewidth": 0,
             "ticks": ""
            },
            "colorscale": [
             [
              0,
              "#0d0887"
             ],
             [
              0.1111111111111111,
              "#46039f"
             ],
             [
              0.2222222222222222,
              "#7201a8"
             ],
             [
              0.3333333333333333,
              "#9c179e"
             ],
             [
              0.4444444444444444,
              "#bd3786"
             ],
             [
              0.5555555555555556,
              "#d8576b"
             ],
             [
              0.6666666666666666,
              "#ed7953"
             ],
             [
              0.7777777777777778,
              "#fb9f3a"
             ],
             [
              0.8888888888888888,
              "#fdca26"
             ],
             [
              1,
              "#f0f921"
             ]
            ],
            "type": "heatmapgl"
           }
          ],
          "histogram": [
           {
            "marker": {
             "colorbar": {
              "outlinewidth": 0,
              "ticks": ""
             }
            },
            "type": "histogram"
           }
          ],
          "histogram2d": [
           {
            "colorbar": {
             "outlinewidth": 0,
             "ticks": ""
            },
            "colorscale": [
             [
              0,
              "#0d0887"
             ],
             [
              0.1111111111111111,
              "#46039f"
             ],
             [
              0.2222222222222222,
              "#7201a8"
             ],
             [
              0.3333333333333333,
              "#9c179e"
             ],
             [
              0.4444444444444444,
              "#bd3786"
             ],
             [
              0.5555555555555556,
              "#d8576b"
             ],
             [
              0.6666666666666666,
              "#ed7953"
             ],
             [
              0.7777777777777778,
              "#fb9f3a"
             ],
             [
              0.8888888888888888,
              "#fdca26"
             ],
             [
              1,
              "#f0f921"
             ]
            ],
            "type": "histogram2d"
           }
          ],
          "histogram2dcontour": [
           {
            "colorbar": {
             "outlinewidth": 0,
             "ticks": ""
            },
            "colorscale": [
             [
              0,
              "#0d0887"
             ],
             [
              0.1111111111111111,
              "#46039f"
             ],
             [
              0.2222222222222222,
              "#7201a8"
             ],
             [
              0.3333333333333333,
              "#9c179e"
             ],
             [
              0.4444444444444444,
              "#bd3786"
             ],
             [
              0.5555555555555556,
              "#d8576b"
             ],
             [
              0.6666666666666666,
              "#ed7953"
             ],
             [
              0.7777777777777778,
              "#fb9f3a"
             ],
             [
              0.8888888888888888,
              "#fdca26"
             ],
             [
              1,
              "#f0f921"
             ]
            ],
            "type": "histogram2dcontour"
           }
          ],
          "mesh3d": [
           {
            "colorbar": {
             "outlinewidth": 0,
             "ticks": ""
            },
            "type": "mesh3d"
           }
          ],
          "parcoords": [
           {
            "line": {
             "colorbar": {
              "outlinewidth": 0,
              "ticks": ""
             }
            },
            "type": "parcoords"
           }
          ],
          "pie": [
           {
            "automargin": true,
            "type": "pie"
           }
          ],
          "scatter": [
           {
            "marker": {
             "colorbar": {
              "outlinewidth": 0,
              "ticks": ""
             }
            },
            "type": "scatter"
           }
          ],
          "scatter3d": [
           {
            "line": {
             "colorbar": {
              "outlinewidth": 0,
              "ticks": ""
             }
            },
            "marker": {
             "colorbar": {
              "outlinewidth": 0,
              "ticks": ""
             }
            },
            "type": "scatter3d"
           }
          ],
          "scattercarpet": [
           {
            "marker": {
             "colorbar": {
              "outlinewidth": 0,
              "ticks": ""
             }
            },
            "type": "scattercarpet"
           }
          ],
          "scattergeo": [
           {
            "marker": {
             "colorbar": {
              "outlinewidth": 0,
              "ticks": ""
             }
            },
            "type": "scattergeo"
           }
          ],
          "scattergl": [
           {
            "marker": {
             "colorbar": {
              "outlinewidth": 0,
              "ticks": ""
             }
            },
            "type": "scattergl"
           }
          ],
          "scattermapbox": [
           {
            "marker": {
             "colorbar": {
              "outlinewidth": 0,
              "ticks": ""
             }
            },
            "type": "scattermapbox"
           }
          ],
          "scatterpolar": [
           {
            "marker": {
             "colorbar": {
              "outlinewidth": 0,
              "ticks": ""
             }
            },
            "type": "scatterpolar"
           }
          ],
          "scatterpolargl": [
           {
            "marker": {
             "colorbar": {
              "outlinewidth": 0,
              "ticks": ""
             }
            },
            "type": "scatterpolargl"
           }
          ],
          "scatterternary": [
           {
            "marker": {
             "colorbar": {
              "outlinewidth": 0,
              "ticks": ""
             }
            },
            "type": "scatterternary"
           }
          ],
          "surface": [
           {
            "colorbar": {
             "outlinewidth": 0,
             "ticks": ""
            },
            "colorscale": [
             [
              0,
              "#0d0887"
             ],
             [
              0.1111111111111111,
              "#46039f"
             ],
             [
              0.2222222222222222,
              "#7201a8"
             ],
             [
              0.3333333333333333,
              "#9c179e"
             ],
             [
              0.4444444444444444,
              "#bd3786"
             ],
             [
              0.5555555555555556,
              "#d8576b"
             ],
             [
              0.6666666666666666,
              "#ed7953"
             ],
             [
              0.7777777777777778,
              "#fb9f3a"
             ],
             [
              0.8888888888888888,
              "#fdca26"
             ],
             [
              1,
              "#f0f921"
             ]
            ],
            "type": "surface"
           }
          ],
          "table": [
           {
            "cells": {
             "fill": {
              "color": "#EBF0F8"
             },
             "line": {
              "color": "white"
             }
            },
            "header": {
             "fill": {
              "color": "#C8D4E3"
             },
             "line": {
              "color": "white"
             }
            },
            "type": "table"
           }
          ]
         },
         "layout": {
          "annotationdefaults": {
           "arrowcolor": "#2a3f5f",
           "arrowhead": 0,
           "arrowwidth": 1
          },
          "coloraxis": {
           "colorbar": {
            "outlinewidth": 0,
            "ticks": ""
           }
          },
          "colorscale": {
           "diverging": [
            [
             0,
             "#8e0152"
            ],
            [
             0.1,
             "#c51b7d"
            ],
            [
             0.2,
             "#de77ae"
            ],
            [
             0.3,
             "#f1b6da"
            ],
            [
             0.4,
             "#fde0ef"
            ],
            [
             0.5,
             "#f7f7f7"
            ],
            [
             0.6,
             "#e6f5d0"
            ],
            [
             0.7,
             "#b8e186"
            ],
            [
             0.8,
             "#7fbc41"
            ],
            [
             0.9,
             "#4d9221"
            ],
            [
             1,
             "#276419"
            ]
           ],
           "sequential": [
            [
             0,
             "#0d0887"
            ],
            [
             0.1111111111111111,
             "#46039f"
            ],
            [
             0.2222222222222222,
             "#7201a8"
            ],
            [
             0.3333333333333333,
             "#9c179e"
            ],
            [
             0.4444444444444444,
             "#bd3786"
            ],
            [
             0.5555555555555556,
             "#d8576b"
            ],
            [
             0.6666666666666666,
             "#ed7953"
            ],
            [
             0.7777777777777778,
             "#fb9f3a"
            ],
            [
             0.8888888888888888,
             "#fdca26"
            ],
            [
             1,
             "#f0f921"
            ]
           ],
           "sequentialminus": [
            [
             0,
             "#0d0887"
            ],
            [
             0.1111111111111111,
             "#46039f"
            ],
            [
             0.2222222222222222,
             "#7201a8"
            ],
            [
             0.3333333333333333,
             "#9c179e"
            ],
            [
             0.4444444444444444,
             "#bd3786"
            ],
            [
             0.5555555555555556,
             "#d8576b"
            ],
            [
             0.6666666666666666,
             "#ed7953"
            ],
            [
             0.7777777777777778,
             "#fb9f3a"
            ],
            [
             0.8888888888888888,
             "#fdca26"
            ],
            [
             1,
             "#f0f921"
            ]
           ]
          },
          "colorway": [
           "#636efa",
           "#EF553B",
           "#00cc96",
           "#ab63fa",
           "#FFA15A",
           "#19d3f3",
           "#FF6692",
           "#B6E880",
           "#FF97FF",
           "#FECB52"
          ],
          "font": {
           "color": "#2a3f5f"
          },
          "geo": {
           "bgcolor": "white",
           "lakecolor": "white",
           "landcolor": "#E5ECF6",
           "showlakes": true,
           "showland": true,
           "subunitcolor": "white"
          },
          "hoverlabel": {
           "align": "left"
          },
          "hovermode": "closest",
          "mapbox": {
           "style": "light"
          },
          "paper_bgcolor": "white",
          "plot_bgcolor": "#E5ECF6",
          "polar": {
           "angularaxis": {
            "gridcolor": "white",
            "linecolor": "white",
            "ticks": ""
           },
           "bgcolor": "#E5ECF6",
           "radialaxis": {
            "gridcolor": "white",
            "linecolor": "white",
            "ticks": ""
           }
          },
          "scene": {
           "xaxis": {
            "backgroundcolor": "#E5ECF6",
            "gridcolor": "white",
            "gridwidth": 2,
            "linecolor": "white",
            "showbackground": true,
            "ticks": "",
            "zerolinecolor": "white"
           },
           "yaxis": {
            "backgroundcolor": "#E5ECF6",
            "gridcolor": "white",
            "gridwidth": 2,
            "linecolor": "white",
            "showbackground": true,
            "ticks": "",
            "zerolinecolor": "white"
           },
           "zaxis": {
            "backgroundcolor": "#E5ECF6",
            "gridcolor": "white",
            "gridwidth": 2,
            "linecolor": "white",
            "showbackground": true,
            "ticks": "",
            "zerolinecolor": "white"
           }
          },
          "shapedefaults": {
           "line": {
            "color": "#2a3f5f"
           }
          },
          "ternary": {
           "aaxis": {
            "gridcolor": "white",
            "linecolor": "white",
            "ticks": ""
           },
           "baxis": {
            "gridcolor": "white",
            "linecolor": "white",
            "ticks": ""
           },
           "bgcolor": "#E5ECF6",
           "caxis": {
            "gridcolor": "white",
            "linecolor": "white",
            "ticks": ""
           }
          },
          "title": {
           "x": 0.05
          },
          "xaxis": {
           "automargin": true,
           "gridcolor": "white",
           "linecolor": "white",
           "ticks": "",
           "title": {
            "standoff": 15
           },
           "zerolinecolor": "white",
           "zerolinewidth": 2
          },
          "yaxis": {
           "automargin": true,
           "gridcolor": "white",
           "linecolor": "white",
           "ticks": "",
           "title": {
            "standoff": 15
           },
           "zerolinecolor": "white",
           "zerolinewidth": 2
          }
         }
        },
        "xaxis": {
         "anchor": "y",
         "domain": [
          0,
          1
         ],
         "title": {
          "text": "total_death"
         }
        },
        "yaxis": {
         "anchor": "x",
         "domain": [
          0,
          1
         ],
         "title": {
          "text": "total_cases"
         }
        }
       }
      },
      "text/html": [
       "<div>                            <div id=\"154d918d-1172-47d3-a6bd-db10d43a9bff\" class=\"plotly-graph-div\" style=\"height:525px; width:100%;\"></div>            <script type=\"text/javascript\">                require([\"plotly\"], function(Plotly) {                    window.PLOTLYENV=window.PLOTLYENV || {};                                    if (document.getElementById(\"154d918d-1172-47d3-a6bd-db10d43a9bff\")) {                    Plotly.newPlot(                        \"154d918d-1172-47d3-a6bd-db10d43a9bff\",                        [{\"hovertemplate\": \"state=CO<br>total_death=%{x}<br>total_cases=%{y}<extra></extra>\", \"legendgroup\": \"CO\", \"marker\": {\"color\": \"#636efa\", \"symbol\": \"circle\"}, \"mode\": \"markers\", \"name\": \"CO\", \"orientation\": \"v\", \"showlegend\": true, \"type\": \"scatter\", \"x\": [2427], \"xaxis\": \"x\", \"y\": [138427], \"yaxis\": \"y\"}, {\"hovertemplate\": \"state=FL<br>total_death=%{x}<br>total_cases=%{y}<extra></extra>\", \"legendgroup\": \"FL\", \"marker\": {\"color\": \"#EF553B\", \"symbol\": \"circle\"}, \"mode\": \"markers\", \"name\": \"FL\", \"orientation\": \"v\", \"showlegend\": true, \"type\": \"scatter\", \"x\": [17248], \"xaxis\": \"x\", \"y\": [840652], \"yaxis\": \"y\"}, {\"hovertemplate\": \"state=AZ<br>total_death=%{x}<br>total_cases=%{y}<extra></extra>\", \"legendgroup\": \"AZ\", \"marker\": {\"color\": \"#00cc96\", \"symbol\": \"circle\"}, \"mode\": \"markers\", \"name\": \"AZ\", \"orientation\": \"v\", \"showlegend\": true, \"type\": \"scatter\", \"x\": [6192], \"xaxis\": \"x\", \"y\": [263133], \"yaxis\": \"y\"}, {\"hovertemplate\": \"state=SC<br>total_death=%{x}<br>total_cases=%{y}<extra></extra>\", \"legendgroup\": \"SC\", \"marker\": {\"color\": \"#ab63fa\", \"symbol\": \"circle\"}, \"mode\": \"markers\", \"name\": \"SC\", \"orientation\": \"v\", \"showlegend\": true, \"type\": \"scatter\", \"x\": [4062], \"xaxis\": \"x\", \"y\": [187738], \"yaxis\": \"y\"}, {\"hovertemplate\": \"state=CT<br>total_death=%{x}<br>total_cases=%{y}<extra></extra>\", \"legendgroup\": \"CT\", \"marker\": {\"color\": \"#FFA15A\", \"symbol\": \"circle\"}, \"mode\": \"markers\", \"name\": \"CT\", \"orientation\": \"v\", \"showlegend\": true, \"type\": \"scatter\", \"x\": [4707], \"xaxis\": \"x\", \"y\": [82987], \"yaxis\": \"y\"}, {\"hovertemplate\": \"state=NE<br>total_death=%{x}<br>total_cases=%{y}<extra></extra>\", \"legendgroup\": \"NE\", \"marker\": {\"color\": \"#19d3f3\", \"symbol\": \"circle\"}, \"mode\": \"markers\", \"name\": \"NE\", \"orientation\": \"v\", \"showlegend\": true, \"type\": \"scatter\", \"x\": [730], \"xaxis\": \"x\", \"y\": [87733], \"yaxis\": \"y\"}, {\"hovertemplate\": \"state=KY<br>total_death=%{x}<br>total_cases=%{y}<extra></extra>\", \"legendgroup\": \"KY\", \"marker\": {\"color\": \"#FF6692\", \"symbol\": \"circle\"}, \"mode\": \"markers\", \"name\": \"KY\", \"orientation\": \"v\", \"showlegend\": true, \"type\": \"scatter\", \"x\": [1590], \"xaxis\": \"x\", \"y\": [124646], \"yaxis\": \"y\"}, {\"hovertemplate\": \"state=WY<br>total_death=%{x}<br>total_cases=%{y}<extra></extra>\", \"legendgroup\": \"WY\", \"marker\": {\"color\": \"#B6E880\", \"symbol\": \"circle\"}, \"mode\": \"markers\", \"name\": \"WY\", \"orientation\": \"v\", \"showlegend\": true, \"type\": \"scatter\", \"x\": [127], \"xaxis\": \"x\", \"y\": [19242], \"yaxis\": \"y\"}, {\"hovertemplate\": \"state=IA<br>total_death=%{x}<br>total_cases=%{y}<extra></extra>\", \"legendgroup\": \"IA\", \"marker\": {\"color\": \"#FF97FF\", \"symbol\": \"circle\"}, \"mode\": \"markers\", \"name\": \"IA\", \"orientation\": \"v\", \"showlegend\": true, \"type\": \"scatter\", \"x\": [1874], \"xaxis\": \"x\", \"y\": [161803], \"yaxis\": \"y\"}, {\"hovertemplate\": \"state=NM<br>total_death=%{x}<br>total_cases=%{y}<extra></extra>\", \"legendgroup\": \"NM\", \"marker\": {\"color\": \"#FECB52\", \"symbol\": \"circle\"}, \"mode\": \"markers\", \"name\": \"NM\", \"orientation\": \"v\", \"showlegend\": true, \"type\": \"scatter\", \"x\": [1144], \"xaxis\": \"x\", \"y\": [57547], \"yaxis\": \"y\"}, {\"hovertemplate\": \"state=ND<br>total_death=%{x}<br>total_cases=%{y}<extra></extra>\", \"legendgroup\": \"ND\", \"marker\": {\"color\": \"#636efa\", \"symbol\": \"circle\"}, \"mode\": \"markers\", \"name\": \"ND\", \"orientation\": \"v\", \"showlegend\": true, \"type\": \"scatter\", \"x\": [686], \"xaxis\": \"x\", \"y\": [57373], \"yaxis\": \"y\"}, {\"hovertemplate\": \"state=WA<br>total_death=%{x}<br>total_cases=%{y}<extra></extra>\", \"legendgroup\": \"WA\", \"marker\": {\"color\": \"#EF553B\", \"symbol\": \"circle\"}, \"mode\": \"markers\", \"name\": \"WA\", \"orientation\": \"v\", \"showlegend\": true, \"type\": \"scatter\", \"x\": [2482], \"xaxis\": \"x\", \"y\": [120011], \"yaxis\": \"y\"}, {\"hovertemplate\": \"state=RMI<br>total_death=%{x}<br>total_cases=%{y}<extra></extra>\", \"legendgroup\": \"RMI\", \"marker\": {\"color\": \"#00cc96\", \"symbol\": \"circle\"}, \"mode\": \"markers\", \"name\": \"RMI\", \"orientation\": \"v\", \"showlegend\": true, \"type\": \"scatter\", \"x\": [0], \"xaxis\": \"x\", \"y\": [1], \"yaxis\": \"y\"}, {\"hovertemplate\": \"state=TN<br>total_death=%{x}<br>total_cases=%{y}<extra></extra>\", \"legendgroup\": \"TN\", \"marker\": {\"color\": \"#ab63fa\", \"symbol\": \"circle\"}, \"mode\": \"markers\", \"name\": \"TN\", \"orientation\": \"v\", \"showlegend\": true, \"type\": \"scatter\", \"x\": [3672], \"xaxis\": \"x\", \"y\": [289749], \"yaxis\": \"y\"}, {\"hovertemplate\": \"state=AS<br>total_death=%{x}<br>total_cases=%{y}<extra></extra>\", \"legendgroup\": \"AS\", \"marker\": {\"color\": \"#FFA15A\", \"symbol\": \"circle\"}, \"mode\": \"markers\", \"name\": \"AS\", \"orientation\": \"v\", \"showlegend\": true, \"type\": \"scatter\", \"x\": [0], \"xaxis\": \"x\", \"y\": [3], \"yaxis\": \"y\"}, {\"hovertemplate\": \"state=MA<br>total_death=%{x}<br>total_cases=%{y}<extra></extra>\", \"legendgroup\": \"MA\", \"marker\": {\"color\": \"#19d3f3\", \"symbol\": \"circle\"}, \"mode\": \"markers\", \"name\": \"MA\", \"orientation\": \"v\", \"showlegend\": true, \"type\": \"scatter\", \"x\": [10165], \"xaxis\": \"x\", \"y\": [179872], \"yaxis\": \"y\"}, {\"hovertemplate\": \"state=PA<br>total_death=%{x}<br>total_cases=%{y}<extra></extra>\", \"legendgroup\": \"PA\", \"marker\": {\"color\": \"#FF6692\", \"symbol\": \"circle\"}, \"mode\": \"markers\", \"name\": \"PA\", \"orientation\": \"v\", \"showlegend\": true, \"type\": \"scatter\", \"x\": [9086], \"xaxis\": \"x\", \"y\": [238657], \"yaxis\": \"y\"}, {\"hovertemplate\": \"state=NYC<br>total_death=%{x}<br>total_cases=%{y}<extra></extra>\", \"legendgroup\": \"NYC\", \"marker\": {\"color\": \"#B6E880\", \"symbol\": \"circle\"}, \"mode\": \"markers\", \"name\": \"NYC\", \"orientation\": \"v\", \"showlegend\": true, \"type\": \"scatter\", \"x\": [24096], \"xaxis\": \"x\", \"y\": [277249], \"yaxis\": \"y\"}, {\"hovertemplate\": \"state=OH<br>total_death=%{x}<br>total_cases=%{y}<extra></extra>\", \"legendgroup\": \"OH\", \"marker\": {\"color\": \"#FF97FF\", \"symbol\": \"circle\"}, \"mode\": \"markers\", \"name\": \"OH\", \"orientation\": \"v\", \"showlegend\": true, \"type\": \"scatter\", \"x\": [5547], \"xaxis\": \"x\", \"y\": [261482], \"yaxis\": \"y\"}, {\"hovertemplate\": \"state=AL<br>total_death=%{x}<br>total_cases=%{y}<extra></extra>\", \"legendgroup\": \"AL\", \"marker\": {\"color\": \"#FECB52\", \"symbol\": \"circle\"}, \"mode\": \"markers\", \"name\": \"AL\", \"orientation\": \"v\", \"showlegend\": true, \"type\": \"scatter\", \"x\": [3120], \"xaxis\": \"x\", \"y\": [206567], \"yaxis\": \"y\"}, {\"hovertemplate\": \"state=VA<br>total_death=%{x}<br>total_cases=%{y}<extra></extra>\", \"legendgroup\": \"VA\", \"marker\": {\"color\": \"#636efa\", \"symbol\": \"circle\"}, \"mode\": \"markers\", \"name\": \"VA\", \"orientation\": \"v\", \"showlegend\": true, \"type\": \"scatter\", \"x\": [3741], \"xaxis\": \"x\", \"y\": [196507], \"yaxis\": \"y\"}, {\"hovertemplate\": \"state=MI<br>total_death=%{x}<br>total_cases=%{y}<extra></extra>\", \"legendgroup\": \"MI\", \"marker\": {\"color\": \"#EF553B\", \"symbol\": \"circle\"}, \"mode\": \"markers\", \"name\": \"MI\", \"orientation\": \"v\", \"showlegend\": true, \"type\": \"scatter\", \"x\": [8094], \"xaxis\": \"x\", \"y\": [245252], \"yaxis\": \"y\"}, {\"hovertemplate\": \"state=MS<br>total_death=%{x}<br>total_cases=%{y}<extra></extra>\", \"legendgroup\": \"MS\", \"marker\": {\"color\": \"#00cc96\", \"symbol\": \"circle\"}, \"mode\": \"markers\", \"name\": \"MS\", \"orientation\": \"v\", \"showlegend\": true, \"type\": \"scatter\", \"x\": [3497], \"xaxis\": \"x\", \"y\": [129394], \"yaxis\": \"y\"}, {\"hovertemplate\": \"state=IL<br>total_death=%{x}<br>total_cases=%{y}<extra></extra>\", \"legendgroup\": \"IL\", \"marker\": {\"color\": \"#ab63fa\", \"symbol\": \"circle\"}, \"mode\": \"markers\", \"name\": \"IL\", \"orientation\": \"v\", \"showlegend\": true, \"type\": \"scatter\", \"x\": [10645], \"xaxis\": \"x\", \"y\": [511183], \"yaxis\": \"y\"}, {\"hovertemplate\": \"state=WI<br>total_death=%{x}<br>total_cases=%{y}<extra></extra>\", \"legendgroup\": \"WI\", \"marker\": {\"color\": \"#FFA15A\", \"symbol\": \"circle\"}, \"mode\": \"markers\", \"name\": \"WI\", \"orientation\": \"v\", \"showlegend\": true, \"type\": \"scatter\", \"x\": [2482], \"xaxis\": \"x\", \"y\": [293812], \"yaxis\": \"y\"}, {\"hovertemplate\": \"state=PR<br>total_death=%{x}<br>total_cases=%{y}<extra></extra>\", \"legendgroup\": \"PR\", \"marker\": {\"color\": \"#19d3f3\", \"symbol\": \"circle\"}, \"mode\": \"markers\", \"name\": \"PR\", \"orientation\": \"v\", \"showlegend\": true, \"type\": \"scatter\", \"x\": [901], \"xaxis\": \"x\", \"y\": [39120], \"yaxis\": \"y\"}, {\"hovertemplate\": \"state=OK<br>total_death=%{x}<br>total_cases=%{y}<extra></extra>\", \"legendgroup\": \"OK\", \"marker\": {\"color\": \"#FF6692\", \"symbol\": \"circle\"}, \"mode\": \"markers\", \"name\": \"OK\", \"orientation\": \"v\", \"showlegend\": true, \"type\": \"scatter\", \"x\": [1496], \"xaxis\": \"x\", \"y\": [150578], \"yaxis\": \"y\"}, {\"hovertemplate\": \"state=NC<br>total_death=%{x}<br>total_cases=%{y}<extra></extra>\", \"legendgroup\": \"NC\", \"marker\": {\"color\": \"#B6E880\", \"symbol\": \"circle\"}, \"mode\": \"markers\", \"name\": \"NC\", \"orientation\": \"v\", \"showlegend\": true, \"type\": \"scatter\", \"x\": [4660], \"xaxis\": \"x\", \"y\": [297442], \"yaxis\": \"y\"}, {\"hovertemplate\": \"state=TX<br>total_death=%{x}<br>total_cases=%{y}<extra></extra>\", \"legendgroup\": \"TX\", \"marker\": {\"color\": \"#FF97FF\", \"symbol\": \"circle\"}, \"mode\": \"markers\", \"name\": \"TX\", \"orientation\": \"v\", \"showlegend\": true, \"type\": \"scatter\", \"x\": [18863], \"xaxis\": \"x\", \"y\": [974230], \"yaxis\": \"y\"}, {\"hovertemplate\": \"state=CA<br>total_death=%{x}<br>total_cases=%{y}<extra></extra>\", \"legendgroup\": \"CA\", \"marker\": {\"color\": \"#FECB52\", \"symbol\": \"circle\"}, \"mode\": \"markers\", \"name\": \"CA\", \"orientation\": \"v\", \"showlegend\": true, \"type\": \"scatter\", \"x\": [18001], \"xaxis\": \"x\", \"y\": [977218], \"yaxis\": \"y\"}, {\"hovertemplate\": \"state=NJ<br>total_death=%{x}<br>total_cases=%{y}<extra></extra>\", \"legendgroup\": \"NJ\", \"marker\": {\"color\": \"#636efa\", \"symbol\": \"circle\"}, \"mode\": \"markers\", \"name\": \"NJ\", \"orientation\": \"v\", \"showlegend\": true, \"type\": \"scatter\", \"x\": [16461], \"xaxis\": \"x\", \"y\": [260430], \"yaxis\": \"y\"}, {\"hovertemplate\": \"state=LA<br>total_death=%{x}<br>total_cases=%{y}<extra></extra>\", \"legendgroup\": \"LA\", \"marker\": {\"color\": \"#EF553B\", \"symbol\": \"circle\"}, \"mode\": \"markers\", \"name\": \"LA\", \"orientation\": \"v\", \"showlegend\": true, \"type\": \"scatter\", \"x\": [6058], \"xaxis\": \"x\", \"y\": [194702], \"yaxis\": \"y\"}, {\"hovertemplate\": \"state=ID<br>total_death=%{x}<br>total_cases=%{y}<extra></extra>\", \"legendgroup\": \"ID\", \"marker\": {\"color\": \"#00cc96\", \"symbol\": \"circle\"}, \"mode\": \"markers\", \"name\": \"ID\", \"orientation\": \"v\", \"showlegend\": true, \"type\": \"scatter\", \"x\": [714], \"xaxis\": \"x\", \"y\": [75428], \"yaxis\": \"y\"}, {\"hovertemplate\": \"state=NV<br>total_death=%{x}<br>total_cases=%{y}<extra></extra>\", \"legendgroup\": \"NV\", \"marker\": {\"color\": \"#ab63fa\", \"symbol\": \"circle\"}, \"mode\": \"markers\", \"name\": \"NV\", \"orientation\": \"v\", \"showlegend\": true, \"type\": \"scatter\", \"x\": [1859], \"xaxis\": \"x\", \"y\": [112304], \"yaxis\": \"y\"}, {\"hovertemplate\": \"state=GA<br>total_death=%{x}<br>total_cases=%{y}<extra></extra>\", \"legendgroup\": \"GA\", \"marker\": {\"color\": \"#FFA15A\", \"symbol\": \"circle\"}, \"mode\": \"markers\", \"name\": \"GA\", \"orientation\": \"v\", \"showlegend\": true, \"type\": \"scatter\", \"x\": [8730], \"xaxis\": \"x\", \"y\": [376054], \"yaxis\": \"y\"}, {\"hovertemplate\": \"state=IN<br>total_death=%{x}<br>total_cases=%{y}<extra></extra>\", \"legendgroup\": \"IN\", \"marker\": {\"color\": \"#19d3f3\", \"symbol\": \"circle\"}, \"mode\": \"markers\", \"name\": \"IN\", \"orientation\": \"v\", \"showlegend\": true, \"type\": \"scatter\", \"x\": [4731], \"xaxis\": \"x\", \"y\": [219338], \"yaxis\": \"y\"}, {\"hovertemplate\": \"state=MD<br>total_death=%{x}<br>total_cases=%{y}<extra></extra>\", \"legendgroup\": \"MD\", \"marker\": {\"color\": \"#FF6692\", \"symbol\": \"circle\"}, \"mode\": \"markers\", \"name\": \"MD\", \"orientation\": \"v\", \"showlegend\": true, \"type\": \"scatter\", \"x\": [4249], \"xaxis\": \"x\", \"y\": [158423], \"yaxis\": \"y\"}, {\"hovertemplate\": \"state=NY<br>total_death=%{x}<br>total_cases=%{y}<extra></extra>\", \"legendgroup\": \"NY\", \"marker\": {\"color\": \"#B6E880\", \"symbol\": \"circle\"}, \"mode\": \"markers\", \"name\": \"NY\", \"orientation\": \"v\", \"showlegend\": true, \"type\": \"scatter\", \"x\": [9399], \"xaxis\": \"x\", \"y\": [262562], \"yaxis\": \"y\"}, {\"hovertemplate\": \"state=AR<br>total_death=%{x}<br>total_cases=%{y}<extra></extra>\", \"legendgroup\": \"AR\", \"marker\": {\"color\": \"#FF97FF\", \"symbol\": \"circle\"}, \"mode\": \"markers\", \"name\": \"AR\", \"orientation\": \"v\", \"showlegend\": true, \"type\": \"scatter\", \"x\": [2112], \"xaxis\": \"x\", \"y\": [124235], \"yaxis\": \"y\"}, {\"hovertemplate\": \"state=MN<br>total_death=%{x}<br>total_cases=%{y}<extra></extra>\", \"legendgroup\": \"MN\", \"marker\": {\"color\": \"#FECB52\", \"symbol\": \"circle\"}, \"mode\": \"markers\", \"name\": \"MN\", \"orientation\": \"v\", \"showlegend\": true, \"type\": \"scatter\", \"x\": [2752], \"xaxis\": \"x\", \"y\": [189681], \"yaxis\": \"y\"}, {\"hovertemplate\": \"state=OR<br>total_death=%{x}<br>total_cases=%{y}<extra></extra>\", \"legendgroup\": \"OR\", \"marker\": {\"color\": \"#636efa\", \"symbol\": \"circle\"}, \"mode\": \"markers\", \"name\": \"OR\", \"orientation\": \"v\", \"showlegend\": true, \"type\": \"scatter\", \"x\": [737], \"xaxis\": \"x\", \"y\": [51909], \"yaxis\": \"y\"}, {\"hovertemplate\": \"state=UT<br>total_death=%{x}<br>total_cases=%{y}<extra></extra>\", \"legendgroup\": \"UT\", \"marker\": {\"color\": \"#EF553B\", \"symbol\": \"circle\"}, \"mode\": \"markers\", \"name\": \"UT\", \"orientation\": \"v\", \"showlegend\": true, \"type\": \"scatter\", \"x\": [672], \"xaxis\": \"x\", \"y\": [137385], \"yaxis\": \"y\"}, {\"hovertemplate\": \"state=WV<br>total_death=%{x}<br>total_cases=%{y}<extra></extra>\", \"legendgroup\": \"WV\", \"marker\": {\"color\": \"#00cc96\", \"symbol\": \"circle\"}, \"mode\": \"markers\", \"name\": \"WV\", \"orientation\": \"v\", \"showlegend\": true, \"type\": \"scatter\", \"x\": [546], \"xaxis\": \"x\", \"y\": [29316], \"yaxis\": \"y\"}, {\"hovertemplate\": \"state=MO<br>total_death=%{x}<br>total_cases=%{y}<extra></extra>\", \"legendgroup\": \"MO\", \"marker\": {\"color\": \"#ab63fa\", \"symbol\": \"circle\"}, \"mode\": \"markers\", \"name\": \"MO\", \"orientation\": \"v\", \"showlegend\": true, \"type\": \"scatter\", \"x\": [3299], \"xaxis\": \"x\", \"y\": [216697], \"yaxis\": \"y\"}, {\"hovertemplate\": \"state=DE<br>total_death=%{x}<br>total_cases=%{y}<extra></extra>\", \"legendgroup\": \"DE\", \"marker\": {\"color\": \"#FFA15A\", \"symbol\": \"circle\"}, \"mode\": \"markers\", \"name\": \"DE\", \"orientation\": \"v\", \"showlegend\": true, \"type\": \"scatter\", \"x\": [724], \"xaxis\": \"x\", \"y\": [27342], \"yaxis\": \"y\"}, {\"hovertemplate\": \"state=SD<br>total_death=%{x}<br>total_cases=%{y}<extra></extra>\", \"legendgroup\": \"SD\", \"marker\": {\"color\": \"#19d3f3\", \"symbol\": \"circle\"}, \"mode\": \"markers\", \"name\": \"SD\", \"orientation\": \"v\", \"showlegend\": true, \"type\": \"scatter\", \"x\": [540], \"xaxis\": \"x\", \"y\": [57334], \"yaxis\": \"y\"}, {\"hovertemplate\": \"state=RI<br>total_death=%{x}<br>total_cases=%{y}<extra></extra>\", \"legendgroup\": \"RI\", \"marker\": {\"color\": \"#FF6692\", \"symbol\": \"circle\"}, \"mode\": \"markers\", \"name\": \"RI\", \"orientation\": \"v\", \"showlegend\": true, \"type\": \"scatter\", \"x\": [1237], \"xaxis\": \"x\", \"y\": [38798], \"yaxis\": \"y\"}, {\"hovertemplate\": \"state=KS<br>total_death=%{x}<br>total_cases=%{y}<extra></extra>\", \"legendgroup\": \"KS\", \"marker\": {\"color\": \"#B6E880\", \"symbol\": \"circle\"}, \"mode\": \"markers\", \"name\": \"KS\", \"orientation\": \"v\", \"showlegend\": true, \"type\": \"scatter\", \"x\": [1181], \"xaxis\": \"x\", \"y\": [103553], \"yaxis\": \"y\"}, {\"hovertemplate\": \"state=ME<br>total_death=%{x}<br>total_cases=%{y}<extra></extra>\", \"legendgroup\": \"ME\", \"marker\": {\"color\": \"#FF97FF\", \"symbol\": \"circle\"}, \"mode\": \"markers\", \"name\": \"ME\", \"orientation\": \"v\", \"showlegend\": true, \"type\": \"scatter\", \"x\": [158], \"xaxis\": \"x\", \"y\": [8202], \"yaxis\": \"y\"}, {\"hovertemplate\": \"state=NH<br>total_death=%{x}<br>total_cases=%{y}<extra></extra>\", \"legendgroup\": \"NH\", \"marker\": {\"color\": \"#FECB52\", \"symbol\": \"circle\"}, \"mode\": \"markers\", \"name\": \"NH\", \"orientation\": \"v\", \"showlegend\": true, \"type\": \"scatter\", \"x\": [489], \"xaxis\": \"x\", \"y\": [12919], \"yaxis\": \"y\"}, {\"hovertemplate\": \"state=DC<br>total_death=%{x}<br>total_cases=%{y}<extra></extra>\", \"legendgroup\": \"DC\", \"marker\": {\"color\": \"#636efa\", \"symbol\": \"circle\"}, \"mode\": \"markers\", \"name\": \"DC\", \"orientation\": \"v\", \"showlegend\": true, \"type\": \"scatter\", \"x\": [657], \"xaxis\": \"x\", \"y\": [18173], \"yaxis\": \"y\"}, {\"hovertemplate\": \"state=MT<br>total_death=%{x}<br>total_cases=%{y}<extra></extra>\", \"legendgroup\": \"MT\", \"marker\": {\"color\": \"#EF553B\", \"symbol\": \"circle\"}, \"mode\": \"markers\", \"name\": \"MT\", \"orientation\": \"v\", \"showlegend\": true, \"type\": \"scatter\", \"x\": [462], \"xaxis\": \"x\", \"y\": [41151], \"yaxis\": \"y\"}, {\"hovertemplate\": \"state=HI<br>total_death=%{x}<br>total_cases=%{y}<extra></extra>\", \"legendgroup\": \"HI\", \"marker\": {\"color\": \"#00cc96\", \"symbol\": \"circle\"}, \"mode\": \"markers\", \"name\": \"HI\", \"orientation\": \"v\", \"showlegend\": true, \"type\": \"scatter\", \"x\": [221], \"xaxis\": \"x\", \"y\": [15961], \"yaxis\": \"y\"}, {\"hovertemplate\": \"state=AK<br>total_death=%{x}<br>total_cases=%{y}<extra></extra>\", \"legendgroup\": \"AK\", \"marker\": {\"color\": \"#ab63fa\", \"symbol\": \"circle\"}, \"mode\": \"markers\", \"name\": \"AK\", \"orientation\": \"v\", \"showlegend\": true, \"type\": \"scatter\", \"x\": [92], \"xaxis\": \"x\", \"y\": [19712], \"yaxis\": \"y\"}, {\"hovertemplate\": \"state=GU<br>total_death=%{x}<br>total_cases=%{y}<extra></extra>\", \"legendgroup\": \"GU\", \"marker\": {\"color\": \"#FFA15A\", \"symbol\": \"circle\"}, \"mode\": \"markers\", \"name\": \"GU\", \"orientation\": \"v\", \"showlegend\": true, \"type\": \"scatter\", \"x\": [91], \"xaxis\": \"x\", \"y\": [5654], \"yaxis\": \"y\"}, {\"hovertemplate\": \"state=VT<br>total_death=%{x}<br>total_cases=%{y}<extra></extra>\", \"legendgroup\": \"VT\", \"marker\": {\"color\": \"#19d3f3\", \"symbol\": \"circle\"}, \"mode\": \"markers\", \"name\": \"VT\", \"orientation\": \"v\", \"showlegend\": true, \"type\": \"scatter\", \"x\": [59], \"xaxis\": \"x\", \"y\": [2462], \"yaxis\": \"y\"}, {\"hovertemplate\": \"state=VI<br>total_death=%{x}<br>total_cases=%{y}<extra></extra>\", \"legendgroup\": \"VI\", \"marker\": {\"color\": \"#FF6692\", \"symbol\": \"circle\"}, \"mode\": \"markers\", \"name\": \"VI\", \"orientation\": \"v\", \"showlegend\": true, \"type\": \"scatter\", \"x\": [23], \"xaxis\": \"x\", \"y\": [1413], \"yaxis\": \"y\"}, {\"hovertemplate\": \"state=MP<br>total_death=%{x}<br>total_cases=%{y}<extra></extra>\", \"legendgroup\": \"MP\", \"marker\": {\"color\": \"#B6E880\", \"symbol\": \"circle\"}, \"mode\": \"markers\", \"name\": \"MP\", \"orientation\": \"v\", \"showlegend\": true, \"type\": \"scatter\", \"x\": [2], \"xaxis\": \"x\", \"y\": [100], \"yaxis\": \"y\"}, {\"hovertemplate\": \"state=FSM<br>total_death=%{x}<br>total_cases=%{y}<extra></extra>\", \"legendgroup\": \"FSM\", \"marker\": {\"color\": \"#FF97FF\", \"symbol\": \"circle\"}, \"mode\": \"markers\", \"name\": \"FSM\", \"orientation\": \"v\", \"showlegend\": true, \"type\": \"scatter\", \"x\": [0], \"xaxis\": \"x\", \"y\": [0], \"yaxis\": \"y\"}, {\"hovertemplate\": \"state=PW<br>total_death=%{x}<br>total_cases=%{y}<extra></extra>\", \"legendgroup\": \"PW\", \"marker\": {\"color\": \"#FECB52\", \"symbol\": \"circle\"}, \"mode\": \"markers\", \"name\": \"PW\", \"orientation\": \"v\", \"showlegend\": true, \"type\": \"scatter\", \"x\": [0], \"xaxis\": \"x\", \"y\": [0], \"yaxis\": \"y\"}],                        {\"hovermode\": \"closest\", \"legend\": {\"title\": {\"text\": \"state\"}, \"tracegroupgap\": 0}, \"margin\": {\"t\": 60}, \"template\": {\"data\": {\"bar\": [{\"error_x\": {\"color\": \"#2a3f5f\"}, \"error_y\": {\"color\": \"#2a3f5f\"}, \"marker\": {\"line\": {\"color\": \"#E5ECF6\", \"width\": 0.5}}, \"type\": \"bar\"}], \"barpolar\": [{\"marker\": {\"line\": {\"color\": \"#E5ECF6\", \"width\": 0.5}}, \"type\": \"barpolar\"}], \"carpet\": [{\"aaxis\": {\"endlinecolor\": \"#2a3f5f\", \"gridcolor\": \"white\", \"linecolor\": \"white\", \"minorgridcolor\": \"white\", \"startlinecolor\": \"#2a3f5f\"}, \"baxis\": {\"endlinecolor\": \"#2a3f5f\", \"gridcolor\": \"white\", \"linecolor\": \"white\", \"minorgridcolor\": \"white\", \"startlinecolor\": \"#2a3f5f\"}, \"type\": \"carpet\"}], \"choropleth\": [{\"colorbar\": {\"outlinewidth\": 0, \"ticks\": \"\"}, \"type\": \"choropleth\"}], \"contour\": [{\"colorbar\": {\"outlinewidth\": 0, \"ticks\": \"\"}, \"colorscale\": [[0.0, \"#0d0887\"], [0.1111111111111111, \"#46039f\"], [0.2222222222222222, \"#7201a8\"], [0.3333333333333333, \"#9c179e\"], [0.4444444444444444, \"#bd3786\"], [0.5555555555555556, \"#d8576b\"], [0.6666666666666666, \"#ed7953\"], [0.7777777777777778, \"#fb9f3a\"], [0.8888888888888888, \"#fdca26\"], [1.0, \"#f0f921\"]], \"type\": \"contour\"}], \"contourcarpet\": [{\"colorbar\": {\"outlinewidth\": 0, \"ticks\": \"\"}, \"type\": \"contourcarpet\"}], \"heatmap\": [{\"colorbar\": {\"outlinewidth\": 0, \"ticks\": \"\"}, \"colorscale\": [[0.0, \"#0d0887\"], [0.1111111111111111, \"#46039f\"], [0.2222222222222222, \"#7201a8\"], [0.3333333333333333, \"#9c179e\"], [0.4444444444444444, \"#bd3786\"], [0.5555555555555556, \"#d8576b\"], [0.6666666666666666, \"#ed7953\"], [0.7777777777777778, \"#fb9f3a\"], [0.8888888888888888, \"#fdca26\"], [1.0, \"#f0f921\"]], \"type\": \"heatmap\"}], \"heatmapgl\": [{\"colorbar\": {\"outlinewidth\": 0, \"ticks\": \"\"}, \"colorscale\": [[0.0, \"#0d0887\"], [0.1111111111111111, \"#46039f\"], [0.2222222222222222, \"#7201a8\"], [0.3333333333333333, \"#9c179e\"], [0.4444444444444444, \"#bd3786\"], [0.5555555555555556, \"#d8576b\"], [0.6666666666666666, \"#ed7953\"], [0.7777777777777778, \"#fb9f3a\"], [0.8888888888888888, \"#fdca26\"], [1.0, \"#f0f921\"]], \"type\": \"heatmapgl\"}], \"histogram\": [{\"marker\": {\"colorbar\": {\"outlinewidth\": 0, \"ticks\": \"\"}}, \"type\": \"histogram\"}], \"histogram2d\": [{\"colorbar\": {\"outlinewidth\": 0, \"ticks\": \"\"}, \"colorscale\": [[0.0, \"#0d0887\"], [0.1111111111111111, \"#46039f\"], [0.2222222222222222, \"#7201a8\"], [0.3333333333333333, \"#9c179e\"], [0.4444444444444444, \"#bd3786\"], [0.5555555555555556, \"#d8576b\"], [0.6666666666666666, \"#ed7953\"], [0.7777777777777778, \"#fb9f3a\"], [0.8888888888888888, \"#fdca26\"], [1.0, \"#f0f921\"]], \"type\": \"histogram2d\"}], \"histogram2dcontour\": [{\"colorbar\": {\"outlinewidth\": 0, \"ticks\": \"\"}, \"colorscale\": [[0.0, \"#0d0887\"], [0.1111111111111111, \"#46039f\"], [0.2222222222222222, \"#7201a8\"], [0.3333333333333333, \"#9c179e\"], [0.4444444444444444, \"#bd3786\"], [0.5555555555555556, \"#d8576b\"], [0.6666666666666666, \"#ed7953\"], [0.7777777777777778, \"#fb9f3a\"], [0.8888888888888888, \"#fdca26\"], [1.0, \"#f0f921\"]], \"type\": \"histogram2dcontour\"}], \"mesh3d\": [{\"colorbar\": {\"outlinewidth\": 0, \"ticks\": \"\"}, \"type\": \"mesh3d\"}], \"parcoords\": [{\"line\": {\"colorbar\": {\"outlinewidth\": 0, \"ticks\": \"\"}}, \"type\": \"parcoords\"}], \"pie\": [{\"automargin\": true, \"type\": \"pie\"}], \"scatter\": [{\"marker\": {\"colorbar\": {\"outlinewidth\": 0, \"ticks\": \"\"}}, \"type\": \"scatter\"}], \"scatter3d\": [{\"line\": {\"colorbar\": {\"outlinewidth\": 0, \"ticks\": \"\"}}, \"marker\": {\"colorbar\": {\"outlinewidth\": 0, \"ticks\": \"\"}}, \"type\": \"scatter3d\"}], \"scattercarpet\": [{\"marker\": {\"colorbar\": {\"outlinewidth\": 0, \"ticks\": \"\"}}, \"type\": \"scattercarpet\"}], \"scattergeo\": [{\"marker\": {\"colorbar\": {\"outlinewidth\": 0, \"ticks\": \"\"}}, \"type\": \"scattergeo\"}], \"scattergl\": [{\"marker\": {\"colorbar\": {\"outlinewidth\": 0, \"ticks\": \"\"}}, \"type\": \"scattergl\"}], \"scattermapbox\": [{\"marker\": {\"colorbar\": {\"outlinewidth\": 0, \"ticks\": \"\"}}, \"type\": \"scattermapbox\"}], \"scatterpolar\": [{\"marker\": {\"colorbar\": {\"outlinewidth\": 0, \"ticks\": \"\"}}, \"type\": \"scatterpolar\"}], \"scatterpolargl\": [{\"marker\": {\"colorbar\": {\"outlinewidth\": 0, \"ticks\": \"\"}}, \"type\": \"scatterpolargl\"}], \"scatterternary\": [{\"marker\": {\"colorbar\": {\"outlinewidth\": 0, \"ticks\": \"\"}}, \"type\": \"scatterternary\"}], \"surface\": [{\"colorbar\": {\"outlinewidth\": 0, \"ticks\": \"\"}, \"colorscale\": [[0.0, \"#0d0887\"], [0.1111111111111111, \"#46039f\"], [0.2222222222222222, \"#7201a8\"], [0.3333333333333333, \"#9c179e\"], [0.4444444444444444, \"#bd3786\"], [0.5555555555555556, \"#d8576b\"], [0.6666666666666666, \"#ed7953\"], [0.7777777777777778, \"#fb9f3a\"], [0.8888888888888888, \"#fdca26\"], [1.0, \"#f0f921\"]], \"type\": \"surface\"}], \"table\": [{\"cells\": {\"fill\": {\"color\": \"#EBF0F8\"}, \"line\": {\"color\": \"white\"}}, \"header\": {\"fill\": {\"color\": \"#C8D4E3\"}, \"line\": {\"color\": \"white\"}}, \"type\": \"table\"}]}, \"layout\": {\"annotationdefaults\": {\"arrowcolor\": \"#2a3f5f\", \"arrowhead\": 0, \"arrowwidth\": 1}, \"coloraxis\": {\"colorbar\": {\"outlinewidth\": 0, \"ticks\": \"\"}}, \"colorscale\": {\"diverging\": [[0, \"#8e0152\"], [0.1, \"#c51b7d\"], [0.2, \"#de77ae\"], [0.3, \"#f1b6da\"], [0.4, \"#fde0ef\"], [0.5, \"#f7f7f7\"], [0.6, \"#e6f5d0\"], [0.7, \"#b8e186\"], [0.8, \"#7fbc41\"], [0.9, \"#4d9221\"], [1, \"#276419\"]], \"sequential\": [[0.0, \"#0d0887\"], [0.1111111111111111, \"#46039f\"], [0.2222222222222222, \"#7201a8\"], [0.3333333333333333, \"#9c179e\"], [0.4444444444444444, \"#bd3786\"], [0.5555555555555556, \"#d8576b\"], [0.6666666666666666, \"#ed7953\"], [0.7777777777777778, \"#fb9f3a\"], [0.8888888888888888, \"#fdca26\"], [1.0, \"#f0f921\"]], \"sequentialminus\": [[0.0, \"#0d0887\"], [0.1111111111111111, \"#46039f\"], [0.2222222222222222, \"#7201a8\"], [0.3333333333333333, \"#9c179e\"], [0.4444444444444444, \"#bd3786\"], [0.5555555555555556, \"#d8576b\"], [0.6666666666666666, \"#ed7953\"], [0.7777777777777778, \"#fb9f3a\"], [0.8888888888888888, \"#fdca26\"], [1.0, \"#f0f921\"]]}, \"colorway\": [\"#636efa\", \"#EF553B\", \"#00cc96\", \"#ab63fa\", \"#FFA15A\", \"#19d3f3\", \"#FF6692\", \"#B6E880\", \"#FF97FF\", \"#FECB52\"], \"font\": {\"color\": \"#2a3f5f\"}, \"geo\": {\"bgcolor\": \"white\", \"lakecolor\": \"white\", \"landcolor\": \"#E5ECF6\", \"showlakes\": true, \"showland\": true, \"subunitcolor\": \"white\"}, \"hoverlabel\": {\"align\": \"left\"}, \"hovermode\": \"closest\", \"mapbox\": {\"style\": \"light\"}, \"paper_bgcolor\": \"white\", \"plot_bgcolor\": \"#E5ECF6\", \"polar\": {\"angularaxis\": {\"gridcolor\": \"white\", \"linecolor\": \"white\", \"ticks\": \"\"}, \"bgcolor\": \"#E5ECF6\", \"radialaxis\": {\"gridcolor\": \"white\", \"linecolor\": \"white\", \"ticks\": \"\"}}, \"scene\": {\"xaxis\": {\"backgroundcolor\": \"#E5ECF6\", \"gridcolor\": \"white\", \"gridwidth\": 2, \"linecolor\": \"white\", \"showbackground\": true, \"ticks\": \"\", \"zerolinecolor\": \"white\"}, \"yaxis\": {\"backgroundcolor\": \"#E5ECF6\", \"gridcolor\": \"white\", \"gridwidth\": 2, \"linecolor\": \"white\", \"showbackground\": true, \"ticks\": \"\", \"zerolinecolor\": \"white\"}, \"zaxis\": {\"backgroundcolor\": \"#E5ECF6\", \"gridcolor\": \"white\", \"gridwidth\": 2, \"linecolor\": \"white\", \"showbackground\": true, \"ticks\": \"\", \"zerolinecolor\": \"white\"}}, \"shapedefaults\": {\"line\": {\"color\": \"#2a3f5f\"}}, \"ternary\": {\"aaxis\": {\"gridcolor\": \"white\", \"linecolor\": \"white\", \"ticks\": \"\"}, \"baxis\": {\"gridcolor\": \"white\", \"linecolor\": \"white\", \"ticks\": \"\"}, \"bgcolor\": \"#E5ECF6\", \"caxis\": {\"gridcolor\": \"white\", \"linecolor\": \"white\", \"ticks\": \"\"}}, \"title\": {\"x\": 0.05}, \"xaxis\": {\"automargin\": true, \"gridcolor\": \"white\", \"linecolor\": \"white\", \"ticks\": \"\", \"title\": {\"standoff\": 15}, \"zerolinecolor\": \"white\", \"zerolinewidth\": 2}, \"yaxis\": {\"automargin\": true, \"gridcolor\": \"white\", \"linecolor\": \"white\", \"ticks\": \"\", \"title\": {\"standoff\": 15}, \"zerolinecolor\": \"white\", \"zerolinewidth\": 2}}}, \"xaxis\": {\"anchor\": \"y\", \"domain\": [0.0, 1.0], \"title\": {\"text\": \"total_death\"}}, \"yaxis\": {\"anchor\": \"x\", \"domain\": [0.0, 1.0], \"title\": {\"text\": \"total_cases\"}}},                        {\"responsive\": true}                    ).then(function(){\n",
       "                            \n",
       "var gd = document.getElementById('154d918d-1172-47d3-a6bd-db10d43a9bff');\n",
       "var x = new MutationObserver(function (mutations, observer) {{\n",
       "        var display = window.getComputedStyle(gd).display;\n",
       "        if (!display || display === 'none') {{\n",
       "            console.log([gd, 'removed!']);\n",
       "            Plotly.purge(gd);\n",
       "            observer.disconnect();\n",
       "        }}\n",
       "}});\n",
       "\n",
       "// Listen for the removal of the full notebook cells\n",
       "var notebookContainer = gd.closest('#notebook-container');\n",
       "if (notebookContainer) {{\n",
       "    x.observe(notebookContainer, {childList: true});\n",
       "}}\n",
       "\n",
       "// Listen for the clearing of the current output cell\n",
       "var outputEl = gd.closest('.output');\n",
       "if (outputEl) {{\n",
       "    x.observe(outputEl, {childList: true});\n",
       "}}\n",
       "\n",
       "                        })                };                });            </script>        </div>"
      ]
     },
     "metadata": {},
     "output_type": "display_data"
    }
   ],
   "source": [
    "f.update_layout(hovermode=\"closest\")\n",
    "\n",
    "f"
   ]
  },
  {
   "cell_type": "code",
   "execution_count": null,
   "metadata": {},
   "outputs": [],
   "source": []
  }
 ],
 "metadata": {
  "kernelspec": {
   "display_name": "Python 3",
   "language": "python",
   "name": "python3"
  },
  "language_info": {
   "codemirror_mode": {
    "name": "ipython",
    "version": 3
   },
   "file_extension": ".py",
   "mimetype": "text/x-python",
   "name": "python",
   "nbconvert_exporter": "python",
   "pygments_lexer": "ipython3",
   "version": "3.7.3"
  }
 },
 "nbformat": 4,
 "nbformat_minor": 2
}
