{
 "cells": [
  {
   "cell_type": "code",
   "execution_count": 1,
   "metadata": {},
   "outputs": [],
   "source": [
    "# Importing libraries\n",
    "import pandas as pd\n",
    "import numpy as np\n",
    "import geopandas as gpd"
   ]
  },
  {
   "cell_type": "code",
   "execution_count": 2,
   "metadata": {},
   "outputs": [],
   "source": [
    "import json\n",
    "import pandas_bokeh\n",
    "from bokeh.io import output_notebook, show\n",
    "from bokeh.models import (CDSView, ColorBar, ColumnDataSource,\n",
    "                          CustomJS, CustomJSFilter, Div,\n",
    "                          GeoJSONDataSource, HoverTool,\n",
    "                          LinearColorMapper, Slider)\n",
    "from bokeh.layouts import column, row, widgetbox\n",
    "from bokeh.palettes import brewer\n",
    "from bokeh.plotting import figure\n",
    "\n",
    "from bokeh.plotting import figure\n",
    "from bokeh.embed import file_html\n",
    "from bokeh.models import Div, Paragraph, Row, Column\n",
    "from bokeh.resources import CDN\n",
    "from bokeh.util.browser import view\n",
    "from jinja2 import Template"
   ]
  },
  {
   "cell_type": "code",
   "execution_count": 3,
   "metadata": {},
   "outputs": [],
   "source": [
    "import os, glob\n",
    "current_location = os.getcwd()\n",
    "os.chdir(current_location)"
   ]
  },
  {
   "cell_type": "code",
   "execution_count": 4,
   "metadata": {},
   "outputs": [],
   "source": [
    "# Read in shapefile\n",
    "contiguous_usa = gpd.read_file(\"../shapefiles/cb_2018_us_state_20m.shp\")"
   ]
  },
  {
   "cell_type": "code",
   "execution_count": 5,
   "metadata": {},
   "outputs": [],
   "source": [
    "# Read csv files\n",
    "df_covid = pd.read_csv(\"../data/raw_2_covid_latest.csv\")\n",
    "# Keep states which are in the shapefile contiguous_usa\n",
    "df_covid = df_covid.loc[df_covid[\"State/Territory\"].isin(contiguous_usa[\"NAME\"])]"
   ]
  },
  {
   "cell_type": "code",
   "execution_count": 6,
   "metadata": {},
   "outputs": [],
   "source": [
    "df_state = pd.read_csv(\"../data/raw_0_states.csv\")\n",
    "df_election_2016 = pd.read_csv(\"../data/raw_5_2016election.csv\")"
   ]
  },
  {
   "cell_type": "code",
   "execution_count": 7,
   "metadata": {},
   "outputs": [
    {
     "ename": "NameError",
     "evalue": "name 'parse_str_int' is not defined",
     "output_type": "error",
     "traceback": [
      "\u001b[0;31m---------------------------------------------------------------------------\u001b[0m",
      "\u001b[0;31mNameError\u001b[0m                                 Traceback (most recent call last)",
      "\u001b[0;32m<ipython-input-7-0bf76763b0cb>\u001b[0m in \u001b[0;36m<module>\u001b[0;34m\u001b[0m\n\u001b[1;32m      1\u001b[0m \u001b[0mdf_mail_2016\u001b[0m \u001b[0;34m=\u001b[0m \u001b[0mpd\u001b[0m\u001b[0;34m.\u001b[0m\u001b[0mread_csv\u001b[0m\u001b[0;34m(\u001b[0m\u001b[0;34m\"../data/raw_6_1_2016mail.csv\"\u001b[0m\u001b[0;34m)\u001b[0m\u001b[0;34m\u001b[0m\u001b[0;34m\u001b[0m\u001b[0m\n\u001b[1;32m      2\u001b[0m \u001b[0mdf_mail_2020\u001b[0m \u001b[0;34m=\u001b[0m \u001b[0mpd\u001b[0m\u001b[0;34m.\u001b[0m\u001b[0mread_csv\u001b[0m\u001b[0;34m(\u001b[0m\u001b[0;34m\"../data/raw_8_2020_votebymail.csv\"\u001b[0m\u001b[0;34m)\u001b[0m\u001b[0;34m\u001b[0m\u001b[0;34m\u001b[0m\u001b[0m\n\u001b[0;32m----> 3\u001b[0;31m \u001b[0mdf_mail_2020\u001b[0m\u001b[0;34m[\u001b[0m\u001b[0;34m\"Number absentee ballots returned\"\u001b[0m\u001b[0;34m]\u001b[0m \u001b[0;34m=\u001b[0m \u001b[0mparse_str_int\u001b[0m\u001b[0;34m(\u001b[0m\u001b[0mdf_mail_2020\u001b[0m\u001b[0;34m[\u001b[0m\u001b[0;34m\"Number absentee ballots returned\"\u001b[0m\u001b[0;34m]\u001b[0m\u001b[0;34m)\u001b[0m\u001b[0;34m\u001b[0m\u001b[0;34m\u001b[0m\u001b[0m\n\u001b[0m",
      "\u001b[0;31mNameError\u001b[0m: name 'parse_str_int' is not defined"
     ]
    }
   ],
   "source": [
    "df_mail_2016 = pd.read_csv(\"../data/raw_6_1_2016mail.csv\")\n",
    "df_mail_2020 = pd.read_csv(\"../data/raw_8_2020_votebymail.csv\")\n",
    "df_mail_2020[\"Number absentee ballots returned\"] = parse_str_int(df_mail_2020[\"Number absentee ballots returned\"])"
   ]
  },
  {
   "cell_type": "code",
   "execution_count": null,
   "metadata": {},
   "outputs": [],
   "source": [
    "df_mail = pd.merge(left=df_mail_2016, right=df_mail_2020, left_on='State', right_on='State')"
   ]
  },
  {
   "cell_type": "code",
   "execution_count": null,
   "metadata": {},
   "outputs": [],
   "source": [
    "df_mail = pd.merge(left=df_mail, right=df_election_2020[[\"States\", \"total_2020\"]], left_on='State', right_on='States')"
   ]
  },
  {
   "cell_type": "code",
   "execution_count": null,
   "metadata": {},
   "outputs": [],
   "source": [
    "df_mail = df_mail.drop(\"States\", axis = 1)"
   ]
  },
  {
   "cell_type": "code",
   "execution_count": null,
   "metadata": {},
   "outputs": [],
   "source": [
    "df_mail.columns = [\"state\", \"total_2016\", \"mail_2016\", \"percent_mail_2016\", \n",
    "                   \"mail_2020\", \"total_2020\"]\n",
    "df_mail[\"percent_mail_2020\"] = (df_mail[\"mail_2020\"]/df_mail[\"total_2020\"])"
   ]
  },
  {
   "cell_type": "code",
   "execution_count": null,
   "metadata": {},
   "outputs": [],
   "source": [
    "df_mail"
   ]
  },
  {
   "cell_type": "code",
   "execution_count": null,
   "metadata": {},
   "outputs": [],
   "source": [
    "def parse_str_int(col):\n",
    "    new_col = col.str.replace(',', '').astype(int)\n",
    "    return new_col\n",
    "\n",
    "df_election_2016[\"TRUMP_votes\"] = parse_str_int(df_election_2016[\"TRUMP_votes\"])\n",
    "df_election_2016[\"CLINTON_votes\"] = parse_str_int(df_election_2016[\"CLINTON_votes\"])\n",
    "df_election_2016[\"total_votes\"] = parse_str_int(df_election_2016[\"total_votes\"])\n",
    "\n",
    "df_election_2016[\"2016_win\"] = np.where(df_election_2016['TRUMP_votes'] > df_election_2016['CLINTON_votes'], 'Republican', \"Democratic\")\n",
    "df_election_2016[\"2016_percent\"] = (df_election_2016[\"CLINTON_votes\"]-df_election_2016[\"TRUMP_votes\"])/df_election_2016[\"total_votes\"]\n",
    "df_election_2016.head()"
   ]
  },
  {
   "cell_type": "code",
   "execution_count": null,
   "metadata": {},
   "outputs": [],
   "source": [
    "df_election_2020 = pd.read_csv(\"../data/raw_3_2020election.csv\")\n",
    "df_election_2020[\"2020_win\"] = np.where(df_election_2020['BIDEN_percent'] > df_election_2020['TRUMP_percent'], 'Democratic', 'Republican')\n",
    "df_election_2020[\"2020_percent\"] = df_election_2020['BIDEN_percent'] - df_election_2020['TRUMP_percent']\n"
   ]
  },
  {
   "cell_type": "code",
   "execution_count": null,
   "metadata": {},
   "outputs": [],
   "source": [
    "df_election_2020[\"total_2020\"] = df_election_2020[\"BIDEN_votes\"]/df_election_2020[\"BIDEN_percent\"]\n",
    "df_election_2020[\"total_2020\"] = df_election_2020[\"total_2020\"].astype(int)"
   ]
  },
  {
   "cell_type": "code",
   "execution_count": null,
   "metadata": {},
   "outputs": [],
   "source": [
    "df_election_2020"
   ]
  },
  {
   "cell_type": "code",
   "execution_count": null,
   "metadata": {},
   "outputs": [],
   "source": [
    "def color_category(col):\n",
    "    \n",
    "    r_25 = col[col<0].quantile(0.25)\n",
    "    r_50 = col[col<0].quantile(0.50)\n",
    "    r_75 = col[col<0].quantile(0.75)\n",
    "    d_25 = col[col>=0].quantile(0.25)\n",
    "    d_50 = col[col>=0].quantile(0.50)\n",
    "    d_75 = col[col>=0].quantile(0.75)\n",
    "    \n",
    "    conditions = [\n",
    "        (col<r_25),\n",
    "        (col>=r_25) & (col<r_50),\n",
    "        (col>=r_50) & (col<r_75),\n",
    "        (col>=r_75) & (col<0),\n",
    "        (col>=0) & (col<d_25),\n",
    "        (col>=d_25) & (col<d_50),\n",
    "        (col>=d_50) & (col<d_75),\n",
    "        (col>=d_75)\n",
    "    ]\n",
    "    \n",
    "    choices = [-8, -6, -4, -2, 2, 4, 6, 8]\n",
    "    \n",
    "    new_col = np.select(condlist=conditions, choicelist=choices)\n",
    "    \n",
    "    return new_col"
   ]
  },
  {
   "cell_type": "code",
   "execution_count": null,
   "metadata": {},
   "outputs": [],
   "source": [
    "df_election_2016[\"color_2016\"] = color_category(df_election_2016[\"2016_percent\"])\n",
    "df_election_2020[\"color_2020\"] = color_category(df_election_2020[\"2020_percent\"])"
   ]
  },
  {
   "cell_type": "code",
   "execution_count": null,
   "metadata": {},
   "outputs": [],
   "source": [
    "df_election_2016 = pd.merge(left = df_election_2016[[\"state_code\", \"2016_win\", \"2016_percent\", \"color_2016\"]], \n",
    "                            right = df_state[[\"state_code\", \"state\"]],\n",
    "                            left_on = 'state_code',\n",
    "                            right_on = 'state_code')"
   ]
  },
  {
   "cell_type": "code",
   "execution_count": null,
   "metadata": {},
   "outputs": [],
   "source": [
    "df_merge = pd.merge(left=df_covid, right=df_election_2020, left_on='State/Territory', right_on='States')\n",
    "df_merge = pd.merge(left=df_merge, right=df_election_2016, left_on='State/Territory', right_on='state')"
   ]
  },
  {
   "cell_type": "code",
   "execution_count": null,
   "metadata": {},
   "outputs": [],
   "source": [
    "# Merge shapefile with covid data\n",
    "map_info = contiguous_usa.merge(df_merge, left_on = \"NAME\", right_on = \"State/Territory\")\n",
    "# Drop Alaska and Hawaii\n",
    "map_info = map_info.loc[~map_info['NAME'].isin(['Alaska', 'Hawaii'])]"
   ]
  },
  {
   "cell_type": "code",
   "execution_count": null,
   "metadata": {},
   "outputs": [],
   "source": [
    "df_merge.head()"
   ]
  },
  {
   "cell_type": "code",
   "execution_count": null,
   "metadata": {},
   "outputs": [],
   "source": [
    "# Input GeoJSON source that contains features for plotting\n",
    "geosource = GeoJSONDataSource(geojson = map_info.to_json())"
   ]
  },
  {
   "cell_type": "code",
   "execution_count": null,
   "metadata": {},
   "outputs": [],
   "source": [
    "#output_notebook()"
   ]
  },
  {
   "cell_type": "code",
   "execution_count": null,
   "metadata": {},
   "outputs": [],
   "source": [
    "base_colors = [\"#cb181d\",\"#fb6a4a\",\"#fcae91\",\"#fee5d9\",\"#eff3ff\",\"#bdd7e7\",\"#6baed6\",\"#2171b5\"]\n",
    "\n",
    "# Instantiate LinearColorMapper that linearly maps numbers in a range, into a sequence of colors.\n",
    "color_mapper = LinearColorMapper(palette = base_colors,\n",
    "                                 low = df_merge[\"color_2020\"].min(),\n",
    "                                 high = df_merge[\"color_2020\"].max())\n",
    "\n",
    "# Define custom tick labels for color bar.\n",
    "tick_labels = {'-8': 'Trump wins',\n",
    "               '-6':'',\n",
    "               '-4':'',\n",
    "               '-2':'', \n",
    "               '2':'',\n",
    "               '4':'',\n",
    "               '6':'',\n",
    "               '8':'Biden wins'}\n",
    "# Create color bar.\n",
    "color_bar = ColorBar(color_mapper = color_mapper, \n",
    "                     label_standoff = 10,\n",
    "                     width = 500, height = 20,\n",
    "                     border_line_color = None,\n",
    "                     location = (0,0), \n",
    "                     orientation = 'horizontal',\n",
    "                     major_label_overrides = tick_labels)\n",
    "\n",
    "\n",
    "# Create figure object\n",
    "p = figure(title = 'COVID-19 cases & 2020 election', \n",
    "           plot_height = 600 ,\n",
    "           plot_width = 950, \n",
    "           toolbar_location = 'below',\n",
    "           tools = \"pan, wheel_zoom, box_zoom, reset\")\n",
    "p.xgrid.grid_line_color = None\n",
    "p.ygrid.grid_line_color = None\n",
    "\n",
    "# Add patch renderer to figure\n",
    "states = p.patches('xs','ys', source = geosource,\n",
    "                   fill_color = {'field' :'color_2020',\n",
    "                                 'transform' : color_mapper},\n",
    "                   line_color = \"gray\", \n",
    "                   line_width = 0.25, \n",
    "                   fill_alpha = 1)\n",
    "# Create hover tool\n",
    "p.add_tools(HoverTool(renderers = [states],\n",
    "                      tooltips = [('State','@NAME'),\n",
    "                                  #('B_win_percent', '@B_win_percent'),\n",
    "                                  #('Win', '@win'),\n",
    "                                  ('Case Rate per 100000','@{Case Rate per 100000}'),\n",
    "                                  ('Confirmed cases','@{Total Cases}'),\n",
    "                                  ('Total deaths','@{Total Deaths}')]))\n",
    "# Specify layout\n",
    "p.add_layout(color_bar, 'below')\n",
    "\n",
    "#show(p)"
   ]
  },
  {
   "cell_type": "code",
   "execution_count": null,
   "metadata": {},
   "outputs": [],
   "source": [
    "# scatter plot\n",
    "#Create Div with DataFrame:\n",
    "div_df = Div(text=df_merge.head(10).to_html(index=False), \n",
    "             width=550)\n",
    "\n",
    "#Create Scatterplot:\n",
    "p_scatter = df_merge.plot_bokeh(\n",
    "    kind=\"scatter\",\n",
    "    x=\"Total Cases\",\n",
    "    y=\"Total Deaths\",\n",
    "    category=\"2020_win\",\n",
    "    title=\"test\",\n",
    "    show_figure=False)\n",
    "'''\n",
    "#Combine Div and Scatterplot via grid layout:\n",
    "pandas_bokeh.plot_grid([[div_df, p_scatter]], \n",
    "                       plot_width=400, \n",
    "                       plot_height=350)\n",
    "'''"
   ]
  },
  {
   "cell_type": "code",
   "execution_count": null,
   "metadata": {},
   "outputs": [],
   "source": [
    "template = Template(\n",
    "    \"\"\"\n",
    "    <!DOCTYPE html>\n",
    "    <html lang=\"en\">\n",
    "        <head>\n",
    "            <meta charset=\"utf-8\">\n",
    "            <title>{{ title if title else \"Bokeh Plot\" }}</title>\n",
    "            {{ bokeh_css | safe }}\n",
    "            {{ bokeh_js | safe }}\n",
    "        </head>\n",
    "        <body>\n",
    "            {{ plot_div | safe }}\n",
    "            {{ plot_script | safe }}\n",
    "        </body>\n",
    "    </html> \n",
    "    \"\"\")\n",
    "\n",
    "#p1 = figure(plot_width = 400, plot_height = 400)\n",
    "#p2 = figure(plot_width = 400, plot_height = 400)\n",
    "p3 = figure(plot_width = 800, plot_height = 400)\n",
    "#p1.circle([1, 2, 3], [4, 5, 6])\n",
    "#p2.line([1, 2, 3], [4, 5, 6])\n",
    "p3.line([1, 2, 3], [4, 5, 6])\n",
    "\n",
    "html = file_html(Column(Row(p), Row(p_scatter), Row(p3)), template = template, resources = CDN)\n",
    "\n",
    "output_file = 'test_interaction.html'\n",
    "with open(output_file, 'w') as f:\n",
    "    f.write(html)\n",
    "view(output_file)"
   ]
  },
  {
   "cell_type": "code",
   "execution_count": null,
   "metadata": {},
   "outputs": [],
   "source": [
    "swing_states = [\"Arizona\", \"Colorado\", \"Florida\", \"Georgia\", \"Iowa\", \n",
    "\"Michigan\", \"Minnesota\", \"Nevada\", \"New Hampshire\", \n",
    "\"North Carolina\", \"Ohio\", \"Pennsylvania\", \"Texas\", \"Wisconsin\"]"
   ]
  },
  {
   "cell_type": "code",
   "execution_count": null,
   "metadata": {},
   "outputs": [],
   "source": []
  }
 ],
 "metadata": {
  "kernelspec": {
   "display_name": "Python 3",
   "language": "python",
   "name": "python3"
  },
  "language_info": {
   "codemirror_mode": {
    "name": "ipython",
    "version": 3
   },
   "file_extension": ".py",
   "mimetype": "text/x-python",
   "name": "python",
   "nbconvert_exporter": "python",
   "pygments_lexer": "ipython3",
   "version": "3.7.3"
  }
 },
 "nbformat": 4,
 "nbformat_minor": 4
}
